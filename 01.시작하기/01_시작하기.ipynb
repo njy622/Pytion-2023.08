{
  "nbformat": 4,
  "nbformat_minor": 0,
  "metadata": {
    "colab": {
      "provenance": [],
      "toc_visible": true
    },
    "kernelspec": {
      "name": "python3",
      "display_name": "Python 3"
    },
    "language_info": {
      "name": "python"
    }
  },
  "cells": [
    {
      "cell_type": "markdown",
      "source": [
        "# 파이썬 시작하기"
      ],
      "metadata": {
        "id": "E0gzgAAvjRCw"
      }
    },
    {
      "cell_type": "markdown",
      "source": [
        "### 1. 세미콜론(;)\n"
      ],
      "metadata": {
        "id": "-7mws38LjzpQ"
      }
    },
    {
      "cell_type": "code",
      "source": [
        "# 문장 끝에 세미콜론(;)을 붙이지 않는다.\n",
        "print('Hello')"
      ],
      "metadata": {
        "colab": {
          "base_uri": "https://localhost:8080/"
        },
        "id": "phKv2dauj8Lg",
        "outputId": "fc339388-1e62-42a1-f769-28f7110c54f0"
      },
      "execution_count": 1,
      "outputs": [
        {
          "output_type": "stream",
          "name": "stdout",
          "text": [
            "Hello\n"
          ]
        }
      ]
    },
    {
      "cell_type": "code",
      "source": [
        "# 한 줄에 여러 문장을 사용할 경우에는 세미콜론(;)을 사용할 구 있음\n",
        "print('Hello'); print('World')"
      ],
      "metadata": {
        "colab": {
          "base_uri": "https://localhost:8080/"
        },
        "id": "37qxQmPmkGUq",
        "outputId": "2b714230-c458-464f-9458-5d55a7c69baf"
      },
      "execution_count": 2,
      "outputs": [
        {
          "output_type": "stream",
          "name": "stdout",
          "text": [
            "Hello\n",
            "World\n"
          ]
        }
      ]
    },
    {
      "cell_type": "markdown",
      "source": [
        "### 2. 주석(Comment)"
      ],
      "metadata": {
        "id": "sioF_UbGk4kx"
      }
    },
    {
      "cell_type": "code",
      "source": [
        "# 한 줄짜리 주석\n",
        "print('Hello')    # 문장 뒤에 사용하는 주석"
      ],
      "metadata": {
        "colab": {
          "base_uri": "https://localhost:8080/"
        },
        "id": "KH0d_7bekpIj",
        "outputId": "d8d179d4-1d4e-4296-c81f-84197f6d6e6a"
      },
      "execution_count": 3,
      "outputs": [
        {
          "output_type": "stream",
          "name": "stdout",
          "text": [
            "Hello\n"
          ]
        }
      ]
    },
    {
      "cell_type": "code",
      "source": [
        "# 여러줄의 주석\n",
        "# 여러줄의 주석\n",
        "'''\n",
        "원래는 멀티 라인 문자열로 사용됨\n",
        "주석으로도 사용됨\n",
        "'''"
      ],
      "metadata": {
        "colab": {
          "base_uri": "https://localhost:8080/",
          "height": 35
        },
        "id": "mLZ5R0ztlGmL",
        "outputId": "47c79ade-bc06-4f92-de4b-459dbb9bfa1b"
      },
      "execution_count": 4,
      "outputs": [
        {
          "output_type": "execute_result",
          "data": {
            "text/plain": [
              "'\\n원래는 멀티 라인 문자열로 사용됨\\n주석으로도 사용됨\\n'"
            ],
            "application/vnd.google.colaboratory.intrinsic+json": {
              "type": "string"
            }
          },
          "metadata": {},
          "execution_count": 4
        }
      ]
    },
    {
      "cell_type": "code",
      "source": [
        " # \"\"\" \"\"\" 도 ''' '''과 동일하게 사용됨"
      ],
      "metadata": {
        "id": "5ewwA29AllwB"
      },
      "execution_count": 5,
      "outputs": []
    },
    {
      "cell_type": "markdown",
      "source": [
        "### 3. 들여쓰기(Indentation)"
      ],
      "metadata": {
        "id": "cZcZF_jMmPdK"
      }
    },
    {
      "cell_type": "code",
      "source": [
        "num = 3\n",
        "if num % 2 == 1:\n",
        "  print('홀수')"
      ],
      "metadata": {
        "colab": {
          "base_uri": "https://localhost:8080/"
        },
        "id": "djskzFN1lutK",
        "outputId": "f867fe46-7d99-4dca-fe06-6e8293b5ada7"
      },
      "execution_count": 6,
      "outputs": [
        {
          "output_type": "stream",
          "name": "stdout",
          "text": [
            "홀수\n"
          ]
        }
      ]
    },
    {
      "cell_type": "code",
      "source": [
        "sum = 0\n",
        "for i in range(1,11):\n",
        "  sum += i\n",
        "  print('for loop이 돌 때마다 찍힘:',sum)\n",
        "print('for loop이 끝난 후 찍힘:',sum)"
      ],
      "metadata": {
        "colab": {
          "base_uri": "https://localhost:8080/"
        },
        "id": "GOTBZ_hTnJ2S",
        "outputId": "de8b4284-1625-4291-8a42-a08126504599"
      },
      "execution_count": 7,
      "outputs": [
        {
          "output_type": "stream",
          "name": "stdout",
          "text": [
            "for loop이 돌 때마다 찍힘: 1\n",
            "for loop이 돌 때마다 찍힘: 3\n",
            "for loop이 돌 때마다 찍힘: 6\n",
            "for loop이 돌 때마다 찍힘: 10\n",
            "for loop이 돌 때마다 찍힘: 15\n",
            "for loop이 돌 때마다 찍힘: 21\n",
            "for loop이 돌 때마다 찍힘: 28\n",
            "for loop이 돌 때마다 찍힘: 36\n",
            "for loop이 돌 때마다 찍힘: 45\n",
            "for loop이 돌 때마다 찍힘: 55\n",
            "for loop이 끝난 후 찍힘: 55\n"
          ]
        }
      ]
    },
    {
      "cell_type": "markdown",
      "source": [
        "# 4. 코드블록"
      ],
      "metadata": {
        "id": "XYKjQYNfsDZk"
      }
    },
    {
      "cell_type": "code",
      "source": [
        "# 콜론(:)과 이루 들여쓰기로 코드 블록이 결정됨\n",
        "if sum % 2 == 1:\n",
        "  print(sum)\n",
        "  print('홀수입니다.')"
      ],
      "metadata": {
        "colab": {
          "base_uri": "https://localhost:8080/"
        },
        "id": "AxxET7e-rG6E",
        "outputId": "8147c4e4-afe8-4c49-e1fa-29ec7e0d4e44"
      },
      "execution_count": 9,
      "outputs": [
        {
          "output_type": "stream",
          "name": "stdout",
          "text": [
            "55\n",
            "홀수입니다.\n"
          ]
        }
      ]
    },
    {
      "cell_type": "code",
      "source": [],
      "metadata": {
        "id": "qALI5DOwsp59"
      },
      "execution_count": null,
      "outputs": []
    }
  ]
}