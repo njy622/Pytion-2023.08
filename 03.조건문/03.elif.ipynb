### 3.3 if ~ elif ~ else
