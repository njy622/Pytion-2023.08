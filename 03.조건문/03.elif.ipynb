{
 "cells": [
  {
   "cell_type": "markdown",
   "metadata": {},
   "source": [
    "### 3.3 if ~ elif ~ else "
   ]
  },
  {
   "cell_type": "code",
   "execution_count": 1,
   "metadata": {},
   "outputs": [],
   "source": [
    "import datetime\n",
    "now = datetime.datetime.now()"
   ]
  },
  {
   "cell_type": "code",
   "execution_count": 2,
   "metadata": {},
   "outputs": [
    {
     "name": "stdout",
     "output_type": "stream",
     "text": [
      "8월은 여름입니다\n"
     ]
    }
   ],
   "source": [
    "if 3 <= now.month  <= 5:\n",
    "    print(f'{now.month}월은 봄입니다')\n",
    "if 6 <= now.month  <= 8:\n",
    "    print(f'{now.month}월은 여름입니다')\n",
    "if 9 <= now.month  <= 11:\n",
    "    print(f'{now.month}월은 가을입니다')\n",
    "if now.month <= 2 or now.month >=12:\n",
    "    print(f'{now.month}월은 겨울입니다')      "
   ]
  },
  {
   "cell_type": "code",
   "execution_count": 3,
   "metadata": {},
   "outputs": [
    {
     "name": "stdout",
     "output_type": "stream",
     "text": [
      "8월은 여름입니다\n"
     ]
    }
   ],
   "source": [
    "if 3 <= now.month  <= 5:\n",
    "    print(f'{now.month}월은 봄입니다')\n",
    "elif 6 <= now.month  <= 8:\n",
    "    print(f'{now.month}월은 여름입니다')\n",
    "elif 9 <= now.month  <= 11:\n",
    "    print(f'{now.month}월은 가을입니다')\n",
    "else:\n",
    "    print(f'{now.month}월은 겨울입니다')   "
   ]
  },
  {
   "cell_type": "code",
   "execution_count": 8,
   "metadata": {},
   "outputs": [
    {
     "data": {
      "text/plain": [
       "(92, 'A')"
      ]
     },
     "execution_count": 8,
     "metadata": {},
     "output_type": "execute_result"
    }
   ],
   "source": [
    "# 90점 이상 - A,  80점 이상 - B, 70점 이상 - C, 60점이상 - D, 60점 미만 - F\n",
    "import random\n",
    "score = random.randint(40, 100)\n",
    "if score >= 90:\n",
    "    grade = 'A'\n",
    "elif score >= 80:\n",
    "    grade = 'B'\n",
    "elif score >= 70:\n",
    "    grade = 'C'\n",
    "elif score >= 60:\n",
    "    grade = 'D'\n",
    "else:\n",
    "    grade = 'F'\n",
    "score, grade"
   ]
  },
  {
   "cell_type": "code",
   "execution_count": 13,
   "metadata": {},
   "outputs": [
    {
     "name": "stdout",
     "output_type": "stream",
     "text": [
      "1879년은 평년입니다.\n"
     ]
    }
   ],
   "source": [
    "# 년도 입력, 윤년여부 판단\n",
    "# 400 으로 나눠서 떨어지면 윤년, 100 으로 나눠서 떨어지면 평년\n",
    "# 4 로 나눠서 떨어지면 윤년 아니면 평년\n",
    "year = int(input('년도 입력> '))\n",
    "if year % 400 == 0:\n",
    "    print(f'{year}년은 윤년입니다.')\n",
    "elif  year % 100 == 0:\n",
    "    print(f'{year}년은 평년입니다.')\n",
    "elif  year % 4 == 0:\n",
    "    print(f'{year}년은 윤년입니다.')\n",
    "else:\n",
    "    print(f'{year}년은 평년입니다.')"
   ]
  },
  {
   "cell_type": "code",
   "execution_count": 15,
   "metadata": {},
   "outputs": [
    {
     "data": {
      "text/plain": [
       "(1996, 6, 22)"
      ]
     },
     "execution_count": 15,
     "metadata": {},
     "output_type": "execute_result"
    }
   ],
   "source": [
    "# 생년월일을 입력으로 받아, 오늘 날짜의 만 나이를 구하시오\n",
    "b_year, b_month, b_day  = map(int,input('생년월일 입력> ').split())\n",
    "b_year, b_month, b_day"
   ]
  },
  {
   "cell_type": "code",
   "execution_count": 18,
   "metadata": {},
   "outputs": [
    {
     "data": {
      "text/plain": [
       "(2023, 8, 29)"
      ]
     },
     "execution_count": 18,
     "metadata": {},
     "output_type": "execute_result"
    }
   ],
   "source": [
    "t_year, t_month, t_day = now.year, now.month, now.day\n",
    "t_year, t_month, t_day"
   ]
  },
  {
   "cell_type": "code",
   "execution_count": 39,
   "metadata": {},
   "outputs": [
    {
     "name": "stdout",
     "output_type": "stream",
     "text": [
      "1996년 6월 22생이면 2023년 8월 29일 기준 만 27세입니다\n"
     ]
    }
   ],
   "source": [
    "b_year, b_month, b_day  = map(int,input('생년월일 입력> ').split())\n",
    "b_year, b_month, b_day\n",
    "t_year, t_month, t_day = now.year, now.month, now.day\n",
    "a_year = t_year-b_year\n",
    "\n",
    "if t_month > b_month:\n",
    "   age = a_year \n",
    "elif t_month < b_month:\n",
    "   age = a_year - 1\n",
    "else:\n",
    "    if t_day > b_day:\n",
    "       age =a_year\n",
    "    else:\n",
    "        age = a_year -1\n",
    "\n",
    "print(f'{b_year}년 {b_month}월 {b_day}생이면 {t_year}년 {t_month}월 {t_day}일 기준 만 {age}세입니다')"
   ]
  },
  {
   "cell_type": "code",
   "execution_count": 41,
   "metadata": {},
   "outputs": [
    {
     "data": {
      "text/plain": [
       "27"
      ]
     },
     "execution_count": 41,
     "metadata": {},
     "output_type": "execute_result"
    }
   ],
   "source": [
    "if b_month * 100 + b_day <= t_month * 100 + t_day:\n",
    "    age = t_year - b_year\n",
    "else:\n",
    "    age = t_year - b_year -1\n",
    "age"
   ]
  },
  {
   "cell_type": "markdown",
   "metadata": {},
   "source": [
    "- False로 변환되는 값"
   ]
  },
  {
   "cell_type": "code",
   "execution_count": 42,
   "metadata": {},
   "outputs": [
    {
     "name": "stdout",
     "output_type": "stream",
     "text": [
      "27\n"
     ]
    }
   ],
   "source": [
    "if age:\n",
    "    print(age)"
   ]
  },
  {
   "cell_type": "code",
   "execution_count": 44,
   "metadata": {},
   "outputs": [
    {
     "data": {
      "text/plain": [
       "(True, False, False)"
      ]
     },
     "execution_count": 44,
     "metadata": {},
     "output_type": "execute_result"
    }
   ],
   "source": [
    "bool(1), bool(0), bool(0.0)         # 숫자 0이면 false"
   ]
  },
  {
   "cell_type": "code",
   "execution_count": 45,
   "metadata": {},
   "outputs": [
    {
     "data": {
      "text/plain": [
       "(True, False, False)"
      ]
     },
     "execution_count": 45,
     "metadata": {},
     "output_type": "execute_result"
    }
   ],
   "source": [
    "bool('a'), bool(''), bool(None)     # 값이 있으면 True, 없거나 None이면 False"
   ]
  },
  {
   "cell_type": "code",
   "execution_count": 46,
   "metadata": {},
   "outputs": [
    {
     "data": {
      "text/plain": [
       "(False, False, False)"
      ]
     },
     "execution_count": 46,
     "metadata": {},
     "output_type": "execute_result"
    }
   ],
   "source": [
    "# empty list, empty tuple, empty dictionary\n",
    "bool([]), bool(()), bool({})"
   ]
  }
 ],
 "metadata": {
  "kernelspec": {
   "display_name": "base",
   "language": "python",
   "name": "python3"
  },
  "language_info": {
   "codemirror_mode": {
    "name": "ipython",
    "version": 3
   },
   "file_extension": ".py",
   "mimetype": "text/x-python",
   "name": "python",
   "nbconvert_exporter": "python",
   "pygments_lexer": "ipython3",
   "version": "3.11.4"
  },
  "orig_nbformat": 4
 },
 "nbformat": 4,
 "nbformat_minor": 2
}
