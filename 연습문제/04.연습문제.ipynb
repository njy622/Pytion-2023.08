{
 "cells": [
  {
   "cell_type": "markdown",
   "metadata": {},
   "source": [
    "### class Account (계좌)를 만드세요.\n",
    "1. 속성값 : \n",
    "- 계좌번호(ano), 소유주(owner), 잔액(balance)\n",
    "- 단, 잔액은 0월 이상이고, 10,000,000원 이하이어야 한다.\n",
    "\n",
    "2. deposit method:\n",
    "- amount를 매개변수로 받아 balance에 더해준다.\n",
    "- 잔액은 10000000원을 초과할 수 없다.\n",
    "\n",
    "3. withdraw method:\n",
    "- amount 만큼의 금액을 balance에서 차감한다.\n",
    "- 잔액은 마이너스 금액이 될 수 없다.\n",
    "\n",
    "4. __str__ method:\n",
    "- 계좌번호: 000, 소유주: 000, 잔액: 10자리의 천단위 구분기호가 있는 정수"
   ]
  },
  {
   "cell_type": "code",
   "execution_count": 127,
   "metadata": {},
   "outputs": [],
   "source": [
    "class Account:\n",
    "    def __init__(self, ano, owner, balance):\n",
    "        self.ano = ano\n",
    "        self.owner = owner\n",
    "        self.balance = balance\n",
    "       \n",
    "\n",
    "    def deposit(self, amount):\n",
    "        if self.balance + amount <= 10000000:\n",
    "            self.balance += amount\n",
    "            print(f'{amount:,d}원을 입금하여, 잔액 {self.balance:10,d}원 입니다.')\n",
    "        else:\n",
    "            print('한도를 초과하였습니다.')\n",
    "    \n",
    "    def withdraw(self, amount):\n",
    "        if self.balance >= amount:\n",
    "            self.balance -= amount\n",
    "            print(f'{amount:,d}원을 출금하여, 잔액 {self.balance:10,d}원 입니다.')\n",
    "        else:\n",
    "            print('잔액이 부족합니다.')\n",
    "       \n",
    "\n",
    "    def __str__(self):\n",
    "        if 0 <= self.balance < 10000000:\n",
    "           return f'계좌번호: {self.ano}, 소유주: {self.owner}, 잔액: {self.balance:10,d}'\n",
    "        else:\n",
    "           return '한도초과 에러'\n"
   ]
  },
  {
   "cell_type": "code",
   "execution_count": 128,
   "metadata": {},
   "outputs": [
    {
     "name": "stdout",
     "output_type": "stream",
     "text": [
      "한도를 초과하였습니다.\n",
      "5,000,000원을 출금하여, 잔액  3,000,000원 입니다.\n",
      "계좌번호: 123-4560-7891, 소유주: maria, 잔액:  3,000,000\n"
     ]
    }
   ],
   "source": [
    "m = Account('123-4560-7891', 'maria', 8000000)\n",
    "m.deposit(3000000)\n",
    "m.withdraw(5000000)\n",
    "print(m)"
   ]
  },
  {
   "cell_type": "code",
   "execution_count": 129,
   "metadata": {},
   "outputs": [
    {
     "name": "stdout",
     "output_type": "stream",
     "text": [
      "500,000원을 입금하여, 잔액  3,500,000원 입니다.\n",
      "500,000원을 입금하여, 잔액  4,000,000원 입니다.\n",
      "500,000원을 입금하여, 잔액  4,500,000원 입니다.\n",
      "500,000원을 입금하여, 잔액  5,000,000원 입니다.\n",
      "500,000원을 입금하여, 잔액  5,500,000원 입니다.\n",
      "500,000원을 입금하여, 잔액  6,000,000원 입니다.\n",
      "500,000원을 입금하여, 잔액  6,500,000원 입니다.\n",
      "500,000원을 입금하여, 잔액  7,000,000원 입니다.\n",
      "500,000원을 입금하여, 잔액  7,500,000원 입니다.\n",
      "500,000원을 입금하여, 잔액  8,000,000원 입니다.\n",
      "500,000원을 입금하여, 잔액  8,500,000원 입니다.\n",
      "500,000원을 입금하여, 잔액  9,000,000원 입니다.\n",
      "500,000원을 입금하여, 잔액  9,500,000원 입니다.\n",
      "500,000원을 입금하여, 잔액 10,000,000원 입니다.\n",
      "한도를 초과하였습니다.\n"
     ]
    }
   ],
   "source": [
    "for _ in range(15):\n",
    "    m.deposit(500000)"
   ]
  },
  {
   "cell_type": "code",
   "execution_count": 130,
   "metadata": {},
   "outputs": [
    {
     "name": "stdout",
     "output_type": "stream",
     "text": [
      "500,000원을 출금하여, 잔액  9,500,000원 입니다.\n",
      "500,000원을 출금하여, 잔액  9,000,000원 입니다.\n",
      "500,000원을 출금하여, 잔액  8,500,000원 입니다.\n",
      "500,000원을 출금하여, 잔액  8,000,000원 입니다.\n",
      "500,000원을 출금하여, 잔액  7,500,000원 입니다.\n",
      "500,000원을 출금하여, 잔액  7,000,000원 입니다.\n",
      "500,000원을 출금하여, 잔액  6,500,000원 입니다.\n",
      "500,000원을 출금하여, 잔액  6,000,000원 입니다.\n",
      "500,000원을 출금하여, 잔액  5,500,000원 입니다.\n",
      "500,000원을 출금하여, 잔액  5,000,000원 입니다.\n",
      "500,000원을 출금하여, 잔액  4,500,000원 입니다.\n",
      "500,000원을 출금하여, 잔액  4,000,000원 입니다.\n",
      "500,000원을 출금하여, 잔액  3,500,000원 입니다.\n",
      "500,000원을 출금하여, 잔액  3,000,000원 입니다.\n"
     ]
    }
   ],
   "source": [
    "for _ in range(14):\n",
    "    m.withdraw(500000)"
   ]
  },
  {
   "cell_type": "code",
   "execution_count": null,
   "metadata": {},
   "outputs": [],
   "source": []
  }
 ],
 "metadata": {
  "kernelspec": {
   "display_name": "base",
   "language": "python",
   "name": "python3"
  },
  "language_info": {
   "codemirror_mode": {
    "name": "ipython",
    "version": 3
   },
   "file_extension": ".py",
   "mimetype": "text/x-python",
   "name": "python",
   "nbconvert_exporter": "python",
   "pygments_lexer": "ipython3",
   "version": "3.11.4"
  },
  "orig_nbformat": 4
 },
 "nbformat": 4,
 "nbformat_minor": 2
}
