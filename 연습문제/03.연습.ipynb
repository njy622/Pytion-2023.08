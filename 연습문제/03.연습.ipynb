{
 "cells": [
  {
   "cell_type": "markdown",
   "metadata": {},
   "source": [
    "### 선생님의 재밌는 문제\n",
    "- 디지털 시계가 있다\n",
    "    - 00 : 00 ~ 23 : 59\n",
    "    - 하루중 3이 표시되는 시간은 몇초인가?\n",
    "    - 총합계를 구하는것\n",
    "    - ex) 디지털 시계 안에, 3이라는 숫자가 나올때마다 걸리는 초구함\n",
    "    -     최소단위 60초(00시 3분이면 1분동안 3이 유지되니까)\n",
    "    -     13:00~13:59까지는 60초 * 60분  = 360초.. 이런식"
   ]
  },
  {
   "cell_type": "code",
   "execution_count": null,
   "metadata": {},
   "outputs": [
    {
     "data": {
      "text/plain": [
       "29700"
      ]
     },
     "metadata": {},
     "output_type": "display_data"
    }
   ],
   "source": [
    "h = []\n",
    "m = []\n",
    "\n",
    "\n",
    "\n",
    "for i in range(1, 60):\n",
    "    m.append(i)\n",
    "m = str(m).count('3') * 60 - 60   # 33분은 2번 세어짐으로 하나는 제외\n",
    "\n",
    "for i in range(1, 24):\n",
    "    h.append(i)\n",
    "h = (str(h).count('3') * 60 * 60) + ((23 - str(h).count('3')) *(m))\n",
    "\n",
    "m+h"
   ]
  },
  {
   "cell_type": "code",
   "execution_count": 1,
   "metadata": {},
   "outputs": [
    {
     "name": "stdout",
     "output_type": "stream",
     "text": [
      "29700\n"
     ]
    }
   ],
   "source": [
    "## 선생님 풀이\n",
    "seconds = 0\n",
    "for hour in range(24):\n",
    "    for minute in range(60):\n",
    "        #clock = str(hour) + str(minute)\n",
    "        clock = f'{hour:02d} : {minute:02d}'\n",
    "        if str(3) in clock:\n",
    "            seconds += 60\n",
    "print(seconds)"
   ]
  },
  {
   "cell_type": "markdown",
   "metadata": {},
   "source": [
    "### Q2. 람다함수\n",
    "다음 리스트에서 제조사와 모델명을 분리해서 별도의 리스트를 만드세요.\n",
    "\n",
    "cars = ['buick skylark 320', 'plymouth satelite', 'amc rebel sst', 'ford' torino]"
   ]
  },
  {
   "cell_type": "code",
   "execution_count": 22,
   "metadata": {},
   "outputs": [
    {
     "data": {
      "text/plain": [
       "(['buick', 'plymouth', 'amc', 'ford'],\n",
       " ['skylark 320', 'satelite', 'rebel sst', 'torino'])"
      ]
     },
     "execution_count": 22,
     "metadata": {},
     "output_type": "execute_result"
    }
   ],
   "source": [
    "cars = ['buick skylark 320', 'plymouth satelite', 'amc rebel sst', 'ford torino']\n",
    "\n",
    "manu_car = list(map(lambda x: f\"{x.split()[0]}\", cars))\n",
    "model_car = list(map(lambda x:f\"{' '.join(x.split()[1:])}\", cars))\n",
    "\n",
    "manu_car, model_car"
   ]
  },
  {
   "cell_type": "code",
   "execution_count": 23,
   "metadata": {},
   "outputs": [
    {
     "data": {
      "text/plain": [
       "('plymouth', 'skylark 320')"
      ]
     },
     "execution_count": 23,
     "metadata": {},
     "output_type": "execute_result"
    }
   ],
   "source": [
    "## 선생님 풀이\n",
    "x = 'buick skylark 320'\n",
    "y = 'plymouth satelite'\n",
    "manu = y.split()[0]\n",
    "model = ' '.join(x.split()[1:])\n",
    "manu, model"
   ]
  },
  {
   "cell_type": "code",
   "execution_count": 25,
   "metadata": {},
   "outputs": [
    {
     "data": {
      "text/plain": [
       "['buick', 'plymouth', 'amc', 'ford']"
      ]
     },
     "execution_count": 25,
     "metadata": {},
     "output_type": "execute_result"
    }
   ],
   "source": [
    "cars = ['buick skylark 320', 'plymouth satelite', 'amc rebel sst', 'ford torino']\n",
    "manu_list = list(map(lambda x: x.split()[0], cars))\n",
    "manu_list"
   ]
  },
  {
   "cell_type": "code",
   "execution_count": 27,
   "metadata": {},
   "outputs": [
    {
     "data": {
      "text/plain": [
       "['skylark 320', 'satelite', 'rebel sst', 'torino']"
      ]
     },
     "execution_count": 27,
     "metadata": {},
     "output_type": "execute_result"
    }
   ],
   "source": [
    "model_list = list(map(lambda x: ' '.join(x.split()[1:]),cars))\n",
    "model_list"
   ]
  }
 ],
 "metadata": {
  "kernelspec": {
   "display_name": "base",
   "language": "python",
   "name": "python3"
  },
  "language_info": {
   "codemirror_mode": {
    "name": "ipython",
    "version": 3
   },
   "file_extension": ".py",
   "mimetype": "text/x-python",
   "name": "python",
   "nbconvert_exporter": "python",
   "pygments_lexer": "ipython3",
   "version": "3.11.4"
  },
  "orig_nbformat": 4
 },
 "nbformat": 4,
 "nbformat_minor": 2
}
