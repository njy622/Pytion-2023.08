{
 "cells": [
  {
   "cell_type": "markdown",
   "metadata": {},
   "source": [
    "### 6.2 고급예외"
   ]
  },
  {
   "cell_type": "code",
   "execution_count": 1,
   "metadata": {},
   "outputs": [
    {
     "name": "stdout",
     "output_type": "stream",
     "text": [
      "<class 'IndexError'> list index out of range\n"
     ]
    }
   ],
   "source": [
    "a = [3, 4, 5]\n",
    "try:\n",
    "    print(a[3])\n",
    "except Exception as e:\n",
    "    print(type(e), e)       # 예외 종류, 예외 메세지 출력"
   ]
  },
  {
   "cell_type": "markdown",
   "metadata": {},
   "source": [
    "- 예외 발생(raise)을 의도적으로"
   ]
  },
  {
   "cell_type": "code",
   "execution_count": 4,
   "metadata": {},
   "outputs": [
    {
     "name": "stdout",
     "output_type": "stream",
     "text": [
      "200, 375, 425\n"
     ]
    }
   ],
   "source": [
    "# a + b + c = 1000을 만족시키는 피타고라스 수를 찾으세요.\n",
    "# 단, a < b < c\n",
    "for a in range(1, 333):\n",
    "    for b in range(a+1, 500):\n",
    "        c = 1000 - a - b\n",
    "        if a*a + b*b == c*c:\n",
    "            print(a, b, c, sep=', ')\n",
    "            break"
   ]
  },
  {
   "cell_type": "code",
   "execution_count": 9,
   "metadata": {},
   "outputs": [
    {
     "name": "stdout",
     "output_type": "stream",
     "text": [
      "200, 375, 425\n"
     ]
    }
   ],
   "source": [
    "import time\n",
    "for a in range(1, 333):\n",
    "    time.sleep(0.02)           # 20 ms 동안 잠시  pause(멈춤)\n",
    "    for b in range(a+1, 500):\n",
    "        c = 1000 - a - b\n",
    "        if a*a + b*b == c*c:\n",
    "            print(a, b, c, sep=', ')\n",
    "            break"
   ]
  },
  {
   "cell_type": "code",
   "execution_count": 3,
   "metadata": {},
   "outputs": [
    {
     "name": "stdout",
     "output_type": "stream",
     "text": [
      "1 4 5 1 \n",
      "6 \n",
      "6 \n",
      "6 \n",
      "6 \n",
      "1 6 5 1 \n",
      "4 6 5 6 2 3 5 4 \n",
      "6 \n",
      "1 5 2 2 4 4 2 6 4 1 \n",
      "4 2 1 1 5 2 1 5 4 \n",
      "5 4 3 1 2 5 \n",
      "6 \n",
      "2 6 5 6 4 1 1 3 3 5 6 4 1 5 3 6 3 2 \n",
      "4 5 1 1 6 1 3 6 4 \n",
      "2 4 4 5 6 2 \n",
      "2 4 4 3 3 5 1 2 \n",
      "3 6 5 5 5 6 2 1 6 3 \n",
      "2 5 6 3 2 \n",
      "2 1 3 6 1 6 2 \n",
      "6 \n",
      "6 \n",
      "5 6 2 6 4 3 3 4 1 2 6 5 \n",
      "6 \n",
      "5 1 1 4 3 4 6 5 \n",
      "6 \n",
      "2 2 \n",
      "5 5 \n",
      "6 \n",
      "2 5 3 5 4 3 3 5 5 3 5 5 4 2 \n",
      "3 5 5 1 2 6 1 5 6 2 2 1 1 5 5 5 2 2 3 \n",
      "4 4 \n",
      "3 3 \n",
      "2 6 2 \n",
      "1 5 5 4 1 \n",
      "5 3 3 6 2 1 6 4 4 2 5 \n",
      "4 3 1 3 1 1 5 5 5 5 6 6 1 6 5 1 2 6 2 3 2 3 4 \n",
      "5 2 2 3 5 \n",
      "6 \n",
      "4 3 2 1 1 4 \n",
      "5 1 2 2 1 2 3 6 6 1 5 \n",
      "3 5 3 \n",
      "5 2 4 4 4 1 6 5 \n",
      "6 \n",
      "1 6 3 2 2 1 \n",
      "2 3 1 5 2 \n",
      "2 1 5 2 \n",
      "2 6 5 6 1 4 4 1 4 4 6 3 3 2 \n",
      "6 \n",
      "3 5 2 6 3 \n",
      "1 6 4 3 1 \n",
      "2 6 4 5 3 1 3 6 6 5 5 5 4 1 1 5 1 5 3 5 1 5 6 5 1 3 1 5 5 2 \n",
      "6 \n",
      "4 6 4 \n",
      "4 3 6 4 \n",
      "6 \n",
      "3 4 1 3 \n",
      "2 3 2 \n",
      "4 5 4 \n",
      "2 3 5 4 6 6 1 5 5 5 5 3 5 2 \n",
      "2 3 2 \n",
      "3 3 \n",
      "5 1 5 \n",
      "5 1 6 6 4 5 \n",
      "4 4 \n",
      "5 5 \n",
      "3 4 2 3 \n",
      "1 3 6 6 6 5 5 4 3 4 5 6 1 \n",
      "6 \n",
      "4 2 1 1 5 5 5 5 2 2 6 3 3 1 6 4 \n",
      "5 5 \n",
      "6 \n",
      "6 \n",
      "5 2 2 6 1 3 2 4 6 6 1 2 1 6 5 \n",
      "1 5 6 2 1 \n",
      "6 \n",
      "1 1 \n",
      "2 3 3 1 4 4 2 \n",
      "4 6 6 2 2 5 3 6 2 4 \n",
      "6 \n",
      "5 6 3 2 4 6 3 3 2 6 5 \n",
      "3 6 2 1 5 2 6 6 4 6 3 \n",
      "3 5 4 1 1 3 \n",
      "6 \n",
      "1 6 2 1 \n",
      "6 \n",
      "5 5 \n",
      "6 \n",
      "5 5 \n",
      "3 5 3 \n",
      "4 5 1 3 6 4 \n",
      "4 4 \n",
      "1 2 6 4 2 2 1 \n",
      "6 \n",
      "4 1 4 \n",
      "5 5 \n",
      "1 4 2 5 2 3 6 6 5 6 3 6 5 1 \n",
      "2 1 3 6 5 5 4 5 1 4 4 1 5 3 5 6 6 5 1 5 5 4 2 \n",
      "6 \n",
      "6 \n",
      "2 6 1 6 3 5 4 1 4 4 5 1 4 2 \n"
     ]
    }
   ],
   "source": [
    "import random\n",
    "for i in range(100):\n",
    "    dice1 = random.randint(1, 6)\n",
    "    print(dice1, end=' ')\n",
    "    if dice1 != 6:\n",
    "        for k in range(100):\n",
    "            dice2 = random.randint(1, 6)\n",
    "            print(dice2, end =' ')\n",
    "            if dice1 == dice2:\n",
    "                break\n",
    "    print()"
   ]
  },
  {
   "cell_type": "code",
   "execution_count": 10,
   "metadata": {},
   "outputs": [
    {
     "name": "stdout",
     "output_type": "stream",
     "text": [
      "200, 375, 425\n"
     ]
    }
   ],
   "source": [
    "find_flag = False\n",
    "for a in range(1, 333):\n",
    "    time.sleep(0.02)           # 20 ms 동안 잠시  pause(멈춤)\n",
    "    for b in range(a+1, 500):\n",
    "        c = 1000 - a - b\n",
    "        if a*a + b*b == c*c:\n",
    "            print(a, b, c, sep=', ')\n",
    "            find_flag = True\n",
    "            break\n",
    "    if find_flag:                   # a, b, c 값을 찾았으면, loop 완전 탈출\n",
    "        break"
   ]
  },
  {
   "cell_type": "code",
   "execution_count": 11,
   "metadata": {},
   "outputs": [
    {
     "name": "stdout",
     "output_type": "stream",
     "text": [
      "200, 375, 425\n",
      "결과를 찾았습니다.\n"
     ]
    }
   ],
   "source": [
    "try:\n",
    "    for a in range(1, 333):\n",
    "        time.sleep(0.02)           # 20 ms 동안 잠시  pause(멈춤)\n",
    "        for b in range(a+1, 500):\n",
    "            c = 1000 - a - b\n",
    "            if a*a + b*b == c*c:\n",
    "                print(a, b, c, sep=', ')\n",
    "                raise Exception('결과를 찾았습니다.')\n",
    "except Exception as e:\n",
    "    print(e)"
   ]
  },
  {
   "cell_type": "code",
   "execution_count": null,
   "metadata": {},
   "outputs": [],
   "source": []
  }
 ],
 "metadata": {
  "kernelspec": {
   "display_name": "base",
   "language": "python",
   "name": "python3"
  },
  "language_info": {
   "codemirror_mode": {
    "name": "ipython",
    "version": 3
   },
   "file_extension": ".py",
   "mimetype": "text/x-python",
   "name": "python",
   "nbconvert_exporter": "python",
   "pygments_lexer": "ipython3",
   "version": "3.11.4"
  },
  "orig_nbformat": 4
 },
 "nbformat": 4,
 "nbformat_minor": 2
}
