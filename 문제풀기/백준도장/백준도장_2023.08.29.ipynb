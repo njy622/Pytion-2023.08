{
 "cells": [
  {
   "cell_type": "markdown",
   "metadata": {},
   "source": [
    "### 백준도장 문제 풀기 #14681, #2884, # 2525, #2480"
   ]
  },
  {
   "cell_type": "code",
   "execution_count": 44,
   "metadata": {},
   "outputs": [
    {
     "name": "stdout",
     "output_type": "stream",
     "text": [
      "1\n"
     ]
    }
   ],
   "source": [
    "# 14681. 사분면 고르기\n",
    "x = int(input())\n",
    "y = int(input())\n",
    "if x>0 and y>0:\n",
    "    print('1')\n",
    "if x<0 and y>0:\n",
    "    print('2')\n",
    "if x<0 and y<0:\n",
    "    print('3')\n",
    "if x>0 and y<0:\n",
    "    print('4')"
   ]
  },
  {
   "cell_type": "code",
   "execution_count": 17,
   "metadata": {},
   "outputs": [
    {
     "name": "stdout",
     "output_type": "stream",
     "text": [
      "22 55\n"
     ]
    }
   ],
   "source": [
    "# 2884. 알람시계\n",
    "H, M = map(int, input().split())\n",
    "if M<45:\n",
    "    if H<1:\n",
    "        print(f'{23-H} {M-45+60}')\n",
    "    if H>=1:\n",
    "        print(f'{H-1} {M-45+60}')\n",
    "else:\n",
    "    print(f'{H} {M-45}')\n",
    "\n",
    "    "
   ]
  },
  {
   "cell_type": "code",
   "execution_count": 60,
   "metadata": {},
   "outputs": [
    {
     "name": "stdout",
     "output_type": "stream",
     "text": [
      "28 10\n"
     ]
    }
   ],
   "source": [
    "#2525. 오븐 시계\n",
    "h, m = map(int,input().split())\n",
    "c = int(input())\n",
    "\n",
    "if h<23:\n",
    "#    if 0 < (m+c) < 60:\n",
    "#        h = h\n",
    "#        m += c\n",
    "#    elif 60 <= (m+c) < 120:\n",
    "#        h += 1\n",
    "#        m += c - 60\n",
    "#    elif 120 <= (m+c):\n",
    "#        h += 2\n",
    "#        m += c - 120\n",
    "\n",
    "    for i in range(17):\n",
    "        if 60*i <= (m+c) < 60*(i+1):\n",
    "            h += h*i\n",
    "            m += c -60*i\n",
    "\n",
    "    \n",
    "\n",
    "else:\n",
    "    if 0 < (m+c) < 60:\n",
    "        m += c\n",
    "    else:\n",
    "        h = 0\n",
    "        m +=  c -60\n",
    "\n",
    "print(h, m)\n",
    "     \n",
    "\n"
   ]
  }
 ],
 "metadata": {
  "kernelspec": {
   "display_name": "base",
   "language": "python",
   "name": "python3"
  },
  "language_info": {
   "codemirror_mode": {
    "name": "ipython",
    "version": 3
   },
   "file_extension": ".py",
   "mimetype": "text/x-python",
   "name": "python",
   "nbconvert_exporter": "python",
   "pygments_lexer": "ipython3",
   "version": "3.11.4"
  },
  "orig_nbformat": 4
 },
 "nbformat": 4,
 "nbformat_minor": 2
}
