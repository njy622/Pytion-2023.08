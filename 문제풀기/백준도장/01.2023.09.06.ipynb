{
 "cells": [
  {
   "cell_type": "markdown",
   "metadata": {},
   "source": [
    "### 백준도장 \n",
    "\n",
    "char(ord('a') +1) =>\n",
    "\n",
    "1. 입력과 사칙연산 #2588 (https://www.acmicpc.net/problem/2588)"
   ]
  },
  {
   "cell_type": "code",
   "execution_count": 58,
   "metadata": {},
   "outputs": [
    {
     "name": "stdout",
     "output_type": "stream",
     "text": [
      "738\n",
      "615\n",
      "492\n",
      "56088\n"
     ]
    }
   ],
   "source": [
    "a = int(input())\n",
    "b = input()\n",
    "#for word in b:\n",
    "#    mul = a * int(word[::-int(word)])\n",
    "#    print(mul)\n",
    "print(a * int(b[2]))\n",
    "print(a * int(b[1]))\n",
    "print(a * int(b[0]))\n",
    "print( a * int(b))\n",
    "\n",
    "# 통과"
   ]
  },
  {
   "cell_type": "markdown",
   "metadata": {},
   "source": [
    "2. 반복문 #25304 (https://www.acmicpc.net/problem/25304)"
   ]
  },
  {
   "cell_type": "code",
   "execution_count": 57,
   "metadata": {},
   "outputs": [
    {
     "name": "stdout",
     "output_type": "stream",
     "text": [
      "Yes\n"
     ]
    }
   ],
   "source": [
    "X = int(input())\n",
    "N = int(input())\n",
    "m = 0\n",
    "for i in range(N):\n",
    "    a, b = map(int, input().split())\n",
    "    m += (a * b)\n",
    "if (m == X):\n",
    "    print('Yes')\n",
    "else:\n",
    "    print('No')\n",
    "\n",
    "# 통과"
   ]
  },
  {
   "cell_type": "markdown",
   "metadata": {},
   "source": [
    "3. 1차원 #2562 (https://www.acmicpc.net/problem/2562)"
   ]
  },
  {
   "cell_type": "code",
   "execution_count": 53,
   "metadata": {},
   "outputs": [
    {
     "name": "stdout",
     "output_type": "stream",
     "text": [
      "85\n",
      "8\n"
     ]
    }
   ],
   "source": [
    "a = [int(input()) for i in range(9)]\n",
    "max = 0\n",
    "for b in a:\n",
    "    if max < b:\n",
    "        max = b\n",
    "print(max)\n",
    "print(a.index(max)+1)\n",
    "\n",
    "# 통과"
   ]
  },
  {
   "cell_type": "markdown",
   "metadata": {},
   "source": [
    "4-1. 문자열 # 2675 (https://www.acmicpc.net/problem/2675)"
   ]
  },
  {
   "cell_type": "code",
   "execution_count": 60,
   "metadata": {},
   "outputs": [
    {
     "name": "stdout",
     "output_type": "stream",
     "text": [
      "/////HHHHHTTTTTPPPPP"
     ]
    }
   ],
   "source": [
    "R, S = map(str, input().split())\n",
    "for P in S:\n",
    "    P *= int(R)\n",
    "    print(P, end='')\n",
    "\n",
    "# 사이트에서는 런타임 에러지만 프로그램상에선 통과!"
   ]
  },
  {
   "cell_type": "markdown",
   "metadata": {},
   "source": [
    "4-2. 문자열 #10809 (https://www.acmicpc.net/problem/10809)"
   ]
  },
  {
   "cell_type": "code",
   "execution_count": 96,
   "metadata": {},
   "outputs": [
    {
     "name": "stdout",
     "output_type": "stream",
     "text": [
      "-1\n"
     ]
    },
    {
     "ename": "IndexError",
     "evalue": "string index out of range",
     "output_type": "error",
     "traceback": [
      "\u001b[1;31m---------------------------------------------------------------------------\u001b[0m",
      "\u001b[1;31mIndexError\u001b[0m                                Traceback (most recent call last)",
      "Cell \u001b[1;32mIn[96], line 5\u001b[0m\n\u001b[0;32m      3\u001b[0m \u001b[39mfor\u001b[39;00m a1 \u001b[39min\u001b[39;00m a:\n\u001b[0;32m      4\u001b[0m     \u001b[39mfor\u001b[39;00m i \u001b[39min\u001b[39;00m \u001b[39mrange\u001b[39m(\u001b[39m26\u001b[39m):\n\u001b[1;32m----> 5\u001b[0m         \u001b[39mif\u001b[39;00m S[i] \u001b[39m==\u001b[39m a1[i]:\n\u001b[0;32m      6\u001b[0m             \u001b[39mprint\u001b[39m(S[i]\u001b[39m.\u001b[39mindex(a), end\u001b[39m=\u001b[39m\u001b[39m'\u001b[39m\u001b[39m'\u001b[39m)  \n\u001b[0;32m      7\u001b[0m         \u001b[39melse\u001b[39;00m:\n",
      "\u001b[1;31mIndexError\u001b[0m: string index out of range"
     ]
    }
   ],
   "source": [
    "S = str(input())\n",
    "\n",
    "for S1 in S:\n",
    "    for i in range(97, 123):\n",
    "        if ord('{S1}') == i\n",
    "            chr(i)\n",
    "\n",
    "# 정규표현식으로 a-z 까지 한번에 표현하는 방법을 찾자\n",
    "# char(ord('a') +1) => b 0~25 : a~z\n",
    "# ord( ) : 문자열을 아스키코드로 반환해주는 함수\n",
    "# chr( ) : 아스키코드를 문자열로 변환하는 함수"
   ]
  },
  {
   "cell_type": "code",
   "execution_count": 42,
   "metadata": {},
   "outputs": [
    {
     "name": "stdout",
     "output_type": "stream",
     "text": [
      "abcdefghijklmnopqrstuvwxyz"
     ]
    }
   ],
   "source": [
    "for i in range(26):\n",
    "    a = chr(ord('a')+i)\n",
    "    print(a, end='')"
   ]
  },
  {
   "cell_type": "markdown",
   "metadata": {},
   "source": [
    "4-3. 문자열 #2908 (https://www.acmicpc.net/problem/2908)"
   ]
  },
  {
   "cell_type": "code",
   "execution_count": 1,
   "metadata": {},
   "outputs": [
    {
     "name": "stdout",
     "output_type": "stream",
     "text": [
      "437\n"
     ]
    }
   ],
   "source": [
    "A, B = map(str, input().split())\n",
    "print(int(A[::-1])) if int(A[::-1]) > int(B[::-1]) else print(int(B[::-1]))\n",
    "\n",
    "# 통과"
   ]
  },
  {
   "cell_type": "markdown",
   "metadata": {},
   "source": [
    "6-1. 심화 #3003 (https://www.acmicpc.net/problem/3003)"
   ]
  },
  {
   "cell_type": "code",
   "execution_count": 17,
   "metadata": {},
   "outputs": [
    {
     "name": "stdout",
     "output_type": "stream",
     "text": [
      "-1 0 0 1 0 7 "
     ]
    }
   ],
   "source": [
    "a = list(map(int, input().split()))\n",
    "b = [1, 1, 2, 2, 2, 8] \n",
    "for i in range(len(a)):\n",
    "    if a[i] != b[i]:\n",
    "       c = b[i] - a[i]\n",
    "    else:\n",
    "        c = 0\n",
    "    print(c, end=' ')\n",
    "\n",
    "# 통과"
   ]
  },
  {
   "cell_type": "markdown",
   "metadata": {},
   "source": [
    "6-2. 심화 #2444"
   ]
  },
  {
   "cell_type": "code",
   "execution_count": 107,
   "metadata": {},
   "outputs": [
    {
     "name": "stdout",
     "output_type": "stream",
     "text": [
      "    *\n",
      "   ***\n",
      "  *****\n",
      " *******\n",
      "*********\n",
      "*****\n",
      " ****\n",
      "  ***\n",
      "   **\n",
      "    *\n"
     ]
    }
   ],
   "source": [
    "a = int(input())\n",
    "for i in range(a):\n",
    "    for k in range(a-i-1):\n",
    "        print(' ', end='')\n",
    "    for k in range(2*i+1):\n",
    "        print('*', end='')\n",
    "    print()\n",
    "for i in range(a):\n",
    "    for k in range(i):\n",
    "        print(' ', end='')\n",
    "    for k in range((a+i)-2*i):\n",
    "        print('*', end='')\n",
    "    print()"
   ]
  },
  {
   "cell_type": "markdown",
   "metadata": {},
   "source": [
    "6-3. 심화 #1157"
   ]
  },
  {
   "cell_type": "code",
   "execution_count": 94,
   "metadata": {},
   "outputs": [
    {
     "ename": "ValueError",
     "evalue": "invalid literal for int() with base 10: 'Mississipi'",
     "output_type": "error",
     "traceback": [
      "\u001b[1;31m---------------------------------------------------------------------------\u001b[0m",
      "\u001b[1;31mValueError\u001b[0m                                Traceback (most recent call last)",
      "Cell \u001b[1;32mIn[94], line 1\u001b[0m\n\u001b[1;32m----> 1\u001b[0m a \u001b[39m=\u001b[39m [\u001b[39mint\u001b[39m(\u001b[39minput\u001b[39m()) \u001b[39mfor\u001b[39;00m i \u001b[39min\u001b[39;00m \u001b[39mrange\u001b[39m(\u001b[39m9\u001b[39m)]\n\u001b[0;32m      2\u001b[0m \u001b[39mmax\u001b[39m \u001b[39m=\u001b[39m \u001b[39m0\u001b[39m\n\u001b[0;32m      3\u001b[0m \u001b[39mfor\u001b[39;00m b \u001b[39min\u001b[39;00m a:\n",
      "Cell \u001b[1;32mIn[94], line 1\u001b[0m, in \u001b[0;36m<listcomp>\u001b[1;34m(.0)\u001b[0m\n\u001b[1;32m----> 1\u001b[0m a \u001b[39m=\u001b[39m [\u001b[39mint\u001b[39m(\u001b[39minput\u001b[39m()) \u001b[39mfor\u001b[39;00m i \u001b[39min\u001b[39;00m \u001b[39mrange\u001b[39m(\u001b[39m9\u001b[39m)]\n\u001b[0;32m      2\u001b[0m \u001b[39mmax\u001b[39m \u001b[39m=\u001b[39m \u001b[39m0\u001b[39m\n\u001b[0;32m      3\u001b[0m \u001b[39mfor\u001b[39;00m b \u001b[39min\u001b[39;00m a:\n",
      "\u001b[1;31mValueError\u001b[0m: invalid literal for int() with base 10: 'Mississipi'"
     ]
    }
   ],
   "source": [
    "a = [int(input()) for i in range(9)]\n",
    "max = 0\n",
    "for b in a:\n",
    "    if max < b:\n",
    "        max = b\n",
    "print(max)\n",
    "print(a.index(max)+1)"
   ]
  },
  {
   "cell_type": "markdown",
   "metadata": {},
   "source": [
    "7-1. 2차원 #2738"
   ]
  },
  {
   "cell_type": "code",
   "execution_count": 93,
   "metadata": {},
   "outputs": [
    {
     "name": "stdout",
     "output_type": "stream",
     "text": [
      "4 4 4\n",
      "6 6 6\n",
      "5 6 100\n"
     ]
    }
   ],
   "source": [
    "N, M = map(int, input().split())\n",
    "a = [input().split() for i in range(M)]\n",
    "b = [input().split() for i in range(N)]\n",
    "c1 = []\n",
    "c2 = []\n",
    "for a1 in a:\n",
    "    for a2 in a1:\n",
    "        c1.append(a2)\n",
    "for b1 in b:\n",
    "    for b2 in b1:\n",
    "        c2.append(b2)\n",
    "\n",
    "c = [int(x)+int(y) for x, y in zip(c1, c2)]\n",
    "\n",
    "for i in range(3):\n",
    "    print(f'{c[3*i]} {c[3*i+1]} {c[3*i+2]}')\n",
    "\n",
    "# 사이트에서는 런타임 에러지만 프로그램상에선 통과!"
   ]
  }
 ],
 "metadata": {
  "kernelspec": {
   "display_name": "base",
   "language": "python",
   "name": "python3"
  },
  "language_info": {
   "codemirror_mode": {
    "name": "ipython",
    "version": 3
   },
   "file_extension": ".py",
   "mimetype": "text/x-python",
   "name": "python",
   "nbconvert_exporter": "python",
   "pygments_lexer": "ipython3",
   "version": "3.11.4"
  },
  "orig_nbformat": 4
 },
 "nbformat": 4,
 "nbformat_minor": 2
}
