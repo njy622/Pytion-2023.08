{
 "cells": [
  {
   "cell_type": "markdown",
   "metadata": {},
   "source": [
    "### 코드도장 연습+심사문제\n",
    "- u 10 ~ 12\n",
    "- u 16\n",
    "- u 20\n",
    "- u 22\n",
    "- 심사문제는 과제 제출"
   ]
  },
  {
   "cell_type": "markdown",
   "metadata": {},
   "source": [
    "10.4 연습문제: range로 리스트 만들기\n",
    "다음 소스 코드를 완성하여 리스트 [5, 3, 1, -1, -3, -5, -7, -9]가 출력되게 만드세요. 리스트를 만들 때는 range를 사용해야 합니다.\n",
    "\n",
    "practice_list.py\n",
    "           range            \n",
    " \n",
    "print(a)\n",
    "실행 결과\n",
    "[5, 3, 1, -1, -3, -5, -7, -9]"
   ]
  },
  {
   "cell_type": "code",
   "execution_count": 12,
   "metadata": {},
   "outputs": [
    {
     "name": "stdout",
     "output_type": "stream",
     "text": [
      "[5, 3, 1, -1, -3, -5, -7, -9]\n"
     ]
    }
   ],
   "source": [
    "a = list(range(5, -10, -2))\n",
    "print(a)"
   ]
  },
  {
   "cell_type": "markdown",
   "metadata": {},
   "source": [
    "### 10.5 심사문제: range로 튜플 만들기\n",
    "표준 입력으로 정수가 입력됩니다. range의 시작하는 숫자는 -10, 끝나는 숫자는 10이며 입력된 정수만큼 증가하는 숫자가 들어가도록 튜플을 만들고, 해당 튜플을 출력하는 프로그램을 만드세요(input에서 안내 문자열은 출력하지 않아야 합니다)."
   ]
  },
  {
   "cell_type": "code",
   "execution_count": 18,
   "metadata": {},
   "outputs": [
    {
     "name": "stdout",
     "output_type": "stream",
     "text": [
      "(-10, -7, -4, -1, 2, 5, 8)\n"
     ]
    }
   ],
   "source": [
    "a = int(input())\n",
    "b = tuple(range(-10,10,a))\n",
    "print(b)"
   ]
  },
  {
   "cell_type": "markdown",
   "metadata": {},
   "source": [
    "### 11.6 연습문제: 최근 3년간 인구 출력하기\n",
    "리스트 year에 연도, population에 서울시 인구수가 저장되어 있습니다. 다음 소스 코드를 완성하여 최근 3년간 연도와 인구수가 리스트로 출력되게 만드세요.\n",
    "year = [2011, 2012, 2013, 2014, 2015, 2016, 2017, 2018]\n",
    "population = [10249679, 10195318, 10143645, 10103233, 10022181, 9930616, 9857426, 9838892]\n",
    " \n",
    "print(         )\n",
    "print(               )"
   ]
  },
  {
   "cell_type": "code",
   "execution_count": 25,
   "metadata": {},
   "outputs": [
    {
     "name": "stdout",
     "output_type": "stream",
     "text": [
      "[2016, 2017, 2018]\n",
      "[9930616, 9857426, 9838892]\n"
     ]
    }
   ],
   "source": [
    "year = [2011, 2012, 2013, 2014, 2015, 2016, 2017, 2018]\n",
    "population = [10249679, 10195318, 10143645, 10103233, 10022181, 9930616, 9857426, 9838892]\n",
    "\n",
    "print(year[-3:])\n",
    "print(population[-3:])"
   ]
  },
  {
   "cell_type": "markdown",
   "metadata": {},
   "source": [
    "### 11.7 연습문제: 인덱스가 홀수인 요소 출력하기\n",
    "다음 소스 코드를 완성하여 튜플 n에서 인덱스가 홀수인 요소들이 출력되게 만드세요.\n",
    "\n",
    "practice_odd_index.py\n",
    "n = -32, 75, 97, -10, 9, 32, 4, -15, 0, 76, 14, 2\n",
    " \n",
    "print(              )\n",
    "\n",
    "실행결과\n",
    "(75, -10, 32, -15, 76, 2)"
   ]
  },
  {
   "cell_type": "code",
   "execution_count": 31,
   "metadata": {},
   "outputs": [
    {
     "data": {
      "text/plain": [
       "(-32, 97, 9, 4, 0, 14)"
      ]
     },
     "execution_count": 31,
     "metadata": {},
     "output_type": "execute_result"
    }
   ],
   "source": [
    "n = -32, 75, 97, -10, 9, 32, 4, -15, 0, 76, 14, 2\n",
    "n[::2]"
   ]
  },
  {
   "cell_type": "markdown",
   "metadata": {},
   "source": [
    "### 11.8 심사문제: 리스트의 마지막 부분 삭제하기\n",
    "표준 입력으로 숫자 또는 문자열 여러 개가 입력되어 리스트 x에 저장됩니다(입력되는 숫자 또는 문자열의 개수는 정해져 있지 않음). 다음 소스 코드를 완성하여 리스트 x의 마지막 요소 5개를 삭제한 뒤 튜플로 출력되게 만드세요.\n",
    "\n",
    "judge_del_slice.py\n",
    "x = input().split()"
   ]
  },
  {
   "cell_type": "code",
   "execution_count": 61,
   "metadata": {},
   "outputs": [
    {
     "name": "stdout",
     "output_type": "stream",
     "text": [
      "('1', '2', '3', '4', '5')\n"
     ]
    }
   ],
   "source": [
    "x = input().split()\n",
    "# del x [-5:]\n",
    "# print(x)\n",
    "del x[-5:]\n",
    "print(tuple(x))\n"
   ]
  },
  {
   "cell_type": "markdown",
   "metadata": {},
   "source": [
    "### 11.9 심사문제: 문자열에서 인덱스가 홀수인 문자와 짝수인 문자 연결하기\n",
    "표준 입력으로 문자열 두 개가 각 줄에 입력됩니다(문자열의 길이는 정해져 있지 않음). 첫 번째 문자열에서 인덱스가 홀수인 문자와 두 번째 문자열에서 인덱스가 짝수인 문자를 연결하여 출력하는 프로그램을 만드세요(input에서 안내 문자열은 출력하지 않아야 합니다). 연결 순서는 첫 번째 문자열, 두 번째 문자열 순입니다. 그리고 0은 짝수로 처리합니다."
   ]
  },
  {
   "cell_type": "code",
   "execution_count": 85,
   "metadata": {},
   "outputs": [
    {
     "name": "stdout",
     "output_type": "stream",
     "text": [
      "yhnpto\n"
     ]
    }
   ],
   "source": [
    "a = input()\n",
    "b = input()\n",
    "print(a[1::2]+b[::2]) "
   ]
  },
  {
   "cell_type": "markdown",
   "metadata": {},
   "source": [
    "### 12.4 연습문제: 딕셔너리에 게임 캐릭터 능력치 저장하기\n",
    "다음 소스 코드를 완성하여 게임 캐릭터의 체력(health)과 이동 속도(movement speed)가 출력되게 만드세요.\n",
    "camille = { <br>\n",
    "    'health': 575.6,<br>\n",
    "    'health_regen': 1.7,<br>\n",
    "    'mana': 338.8,<br>\n",
    "    'mana_regen': 1.63,<br>\n",
    "    'melee': 125,<br>\n",
    "    'attack_damage': 60,<br>\n",
    "    'attack_speed': 0.625,<br>\n",
    "    'armor': 26,<br>\n",
    "    'magic_resistance': 32.1,<br>\n",
    "    'movement_speed': 340<br>\n",
    "}<br>\n",
    " \n",
    "print(                   )<br>\n",
    "print(                   )"
   ]
  },
  {
   "cell_type": "code",
   "execution_count": 113,
   "metadata": {},
   "outputs": [
    {
     "name": "stdout",
     "output_type": "stream",
     "text": [
      "575.6\n",
      "340\n"
     ]
    }
   ],
   "source": [
    "camille = {\n",
    "    'health': 575.6,\n",
    "    'health_regen': 1.7,\n",
    "    'mana': 338.8,\n",
    "    'mana_regen': 1.63,\n",
    "    'melee': 125,\n",
    "    'attack_damage': 60,\n",
    "    'attack_speed': 0.625,\n",
    "    'armor': 26,\n",
    "    'magic_resistance': 32.1,\n",
    "    'movement_speed': 340\n",
    "}\n",
    "print(camille['health'])\n",
    "print(camille['movement_speed'])"
   ]
  },
  {
   "cell_type": "markdown",
   "metadata": {},
   "source": [
    "### 12.5 심사문제: 딕셔너리에 게임 캐릭터 능력치 저장하기\n",
    "표준 입력으로 문자열 여러 개와 숫자(실수) 여러 개가 두 줄로 입력됩니다. 입력된 첫 번째 줄은 키, 두 번째 줄은 값으로 하여 딕셔너리를 생성한 뒤 딕셔너리를 출력하는 프로그램을 만드세요. input().split()의 결과를 변수 한 개에 저장하면 리스트로 저장됩니다."
   ]
  },
  {
   "cell_type": "code",
   "execution_count": 143,
   "metadata": {},
   "outputs": [
    {
     "ename": "IndexError",
     "evalue": "list index out of range",
     "output_type": "error",
     "traceback": [
      "\u001b[1;31m---------------------------------------------------------------------------\u001b[0m",
      "\u001b[1;31mIndexError\u001b[0m                                Traceback (most recent call last)",
      "Cell \u001b[1;32mIn[143], line 4\u001b[0m\n\u001b[0;32m      2\u001b[0m b \u001b[39m=\u001b[39m \u001b[39minput\u001b[39m()\u001b[39m.\u001b[39msplit()\n\u001b[0;32m      3\u001b[0m \u001b[39mfor\u001b[39;00m i \u001b[39min\u001b[39;00m \u001b[39mrange\u001b[39m(\u001b[39m100\u001b[39m):\n\u001b[1;32m----> 4\u001b[0m     \u001b[39mprint\u001b[39m(\u001b[39mf\u001b[39m\u001b[39m'\u001b[39m\u001b[39mdict(\u001b[39m\u001b[39m{\u001b[39;00ma[i]\u001b[39m}\u001b[39;00m\u001b[39m \u001b[39m\u001b[39m{\u001b[39;00mb[i]\u001b[39m}\u001b[39;00m\u001b[39m'\u001b[39m)\n",
      "\u001b[1;31mIndexError\u001b[0m: list index out of range"
     ]
    }
   ],
   "source": [
    "a = input().split()\n",
    "b = input().split()\n",
    "for i in range(100):\n",
    "    print(f'dict({a[i]} {b[i]}')"
   ]
  },
  {
   "cell_type": "markdown",
   "metadata": {},
   "source": [
    "### 16.6 심사문제: 구구단 출력하기\n",
    "표준 입력으로 정수가 입력됩니다. 입력된 정수의 구구단을 출력하는 프로그램을 만드세요(input에서 안내 문자열은 출력하지 않아야 합니다). 출력 형식은 숫자 * 숫자 = 숫자처럼 만들고 숫자와 *, = 사이는 공백을 한 칸 띄웁니다."
   ]
  },
  {
   "cell_type": "code",
   "execution_count": 148,
   "metadata": {},
   "outputs": [
    {
     "name": "stdout",
     "output_type": "stream",
     "text": [
      "2 * 1 = 2\n",
      "2 * 2 = 4\n",
      "2 * 3 = 6\n",
      "2 * 4 = 8\n",
      "2 * 5 = 10\n",
      "2 * 6 = 12\n",
      "2 * 7 = 14\n",
      "2 * 8 = 16\n",
      "2 * 9 = 18\n"
     ]
    }
   ],
   "source": [
    "a = int(input())\n",
    "for i in range(1,10):\n",
    "    print(f'{a} * {i} = {a*i}')"
   ]
  },
  {
   "cell_type": "markdown",
   "metadata": {},
   "source": [
    "### 20.8 심사문제: 5와 7의 배수, 공배수 처리하기\n",
    "표준 입력으로 정수 두 개가 입력됩니다(첫 번째 입력 값의 범위는 1~1000, 두 번째 입력 값의 범위는 10~1000이며 첫 번째 입력 값은 두 번째 입력 값보다 항상 작습니다). 첫 번째 정수부터 두 번째 정수까지 숫자를 출력하면서 5의 배수일 때는 'Fizz', 7의 배수일 때는 'Buzz', 5와 7의 공배수일 때는 'FizzBuzz'를 출력하는 프로그램을 만드세요(input에서 안내 문자열은 출력하지 않아야 합니다)."
   ]
  },
  {
   "cell_type": "code",
   "execution_count": 181,
   "metadata": {},
   "outputs": [
    {
     "name": "stdout",
     "output_type": "stream",
     "text": [
      "Fizz\n",
      "36\n",
      "37\n",
      "38\n",
      "39\n",
      "FizzBuzz\n"
     ]
    }
   ],
   "source": [
    "a, b = map(int, input().split())\n",
    "for i in range(a, b + 1):\n",
    "    if i % 5 == 0 and i % 7:\n",
    "        print('FizzBuzz')\n",
    "    elif i % 5 == 0:\n",
    "            print('Fizz')\n",
    "    elif i % 7 == 0:\n",
    "            print('Buzz')\n",
    "    else:\n",
    "        print(i)\n",
    "\n",
    "# 왜 코딩도장에선 안돌아갈까.."
   ]
  },
  {
   "cell_type": "markdown",
   "metadata": {},
   "source": [
    "### 22.10 심사문제: 2의 거듭제곱 리스트 생성하기\n",
    "표준 입력으로 정수 두 개가 입력됩니다(첫 번째 입력 값의 범위는 1~20, 두 번째 입력 값의 범위는 10~30이며 첫 번째 입력 값은 두 번째 입력 값보다 항상 작습니다). 첫 번째 정수부터 두 번째 정수까지를 지수로 하는 2의 거듭제곱 리스트를 출력하는 프로그램을 만드세요(input에서 안내 문자열은 출력하지 않아야 합니다). 단, 리스트의 두 번째 요소와 뒤에서 두 번째 요소는 삭제한 뒤 출력하세요. 출력 결과는 리스트 형태라야 합니다."
   ]
  },
  {
   "cell_type": "code",
   "execution_count": 195,
   "metadata": {},
   "outputs": [
    {
     "name": "stdout",
     "output_type": "stream",
     "text": [
      "[2, 4, 8, 16, 32, 64, 128, 256, 512, 1024]\n"
     ]
    }
   ],
   "source": [
    "a, b = map(int, input().split())\n",
    "k = []\n",
    "for i in range(a, b+1):\n",
    "   k.append(2**i)\n",
    "print(k)"
   ]
  }
 ],
 "metadata": {
  "kernelspec": {
   "display_name": "base",
   "language": "python",
   "name": "python3"
  },
  "language_info": {
   "codemirror_mode": {
    "name": "ipython",
    "version": 3
   },
   "file_extension": ".py",
   "mimetype": "text/x-python",
   "name": "python",
   "nbconvert_exporter": "python",
   "pygments_lexer": "ipython3",
   "version": "3.11.4"
  },
  "orig_nbformat": 4
 },
 "nbformat": 4,
 "nbformat_minor": 2
}
