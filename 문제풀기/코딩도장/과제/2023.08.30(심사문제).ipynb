{
 "cells": [
  {
   "cell_type": "markdown",
   "metadata": {},
   "source": [
    "### 코드도장 연습+심사문제\n",
    "- u 10 ~ 12\n",
    "- u 16\n",
    "- u 20\n",
    "- u 22\n",
    "- 심사문제는 과제 제출"
   ]
  },
  {
   "cell_type": "markdown",
   "metadata": {},
   "source": [
    "### 10.5 심사문제: range로 튜플 만들기\n",
    "표준 입력으로 정수가 입력됩니다. range의 시작하는 숫자는 -10, 끝나는 숫자는 10이며 입력된 정수만큼 증가하는 숫자가 들어가도록 튜플을 만들고, 해당 튜플을 출력하는 프로그램을 만드세요(input에서 안내 문자열은 출력하지 않아야 합니다)."
   ]
  },
  {
   "cell_type": "code",
   "execution_count": 18,
   "metadata": {},
   "outputs": [
    {
     "name": "stdout",
     "output_type": "stream",
     "text": [
      "(-10, -7, -4, -1, 2, 5, 8)\n"
     ]
    }
   ],
   "source": [
    "a = int(input())\n",
    "b = tuple(range(-10,10,a))\n",
    "print(b)"
   ]
  },
  {
   "cell_type": "code",
   "execution_count": null,
   "metadata": {},
   "outputs": [],
   "source": [
    "# 선생님 풀이\n",
    "inc = int(input())\n",
    "t = tuple(range(-10, 10, inc))\n",
    "print(t)"
   ]
  },
  {
   "cell_type": "markdown",
   "metadata": {},
   "source": [
    "### 11.8 심사문제: 리스트의 마지막 부분 삭제하기\n",
    "표준 입력으로 숫자 또는 문자열 여러 개가 입력되어 리스트 x에 저장됩니다(입력되는 숫자 또는 문자열의 개수는 정해져 있지 않음). 다음 소스 코드를 완성하여 리스트 x의 마지막 요소 5개를 삭제한 뒤 튜플로 출력되게 만드세요.\n",
    "\n",
    "judge_del_slice.py\n",
    "x = input().split()"
   ]
  },
  {
   "cell_type": "code",
   "execution_count": 61,
   "metadata": {},
   "outputs": [
    {
     "name": "stdout",
     "output_type": "stream",
     "text": [
      "('1', '2', '3', '4', '5')\n"
     ]
    }
   ],
   "source": [
    "x = input().split()\n",
    "del x[-5:]\n",
    "print(tuple(x))\n"
   ]
  },
  {
   "cell_type": "code",
   "execution_count": 2,
   "metadata": {},
   "outputs": [
    {
     "name": "stdout",
     "output_type": "stream",
     "text": [
      "('1', '2', '3', '4', '5')\n"
     ]
    }
   ],
   "source": [
    "# 선생님 풀이 (이렇게도 됨)\n",
    "x = input().split()\n",
    "del x[len(x)-5:]\n",
    "print(tuple(x))\n"
   ]
  },
  {
   "cell_type": "markdown",
   "metadata": {},
   "source": [
    "### 11.9 심사문제: 문자열에서 인덱스가 홀수인 문자와 짝수인 문자 연결하기\n",
    "표준 입력으로 문자열 두 개가 각 줄에 입력됩니다(문자열의 길이는 정해져 있지 않음). 첫 번째 문자열에서 인덱스가 홀수인 문자와 두 번째 문자열에서 인덱스가 짝수인 문자를 연결하여 출력하는 프로그램을 만드세요(input에서 안내 문자열은 출력하지 않아야 합니다). 연결 순서는 첫 번째 문자열, 두 번째 문자열 순입니다. 그리고 0은 짝수로 처리합니다."
   ]
  },
  {
   "cell_type": "code",
   "execution_count": 85,
   "metadata": {},
   "outputs": [
    {
     "name": "stdout",
     "output_type": "stream",
     "text": [
      "yhnpto\n"
     ]
    }
   ],
   "source": [
    "a = input()     # hello\n",
    "b = input()     # world\n",
    "print(a[1::2]+b[::2]) "
   ]
  },
  {
   "cell_type": "markdown",
   "metadata": {},
   "source": [
    "### 12.5 심사문제: 딕셔너리에 게임 캐릭터 능력치 저장하기\n",
    "표준 입력으로 문자열 여러 개와 숫자(실수) 여러 개가 두 줄로 입력됩니다. 입력된 첫 번째 줄은 키, 두 번째 줄은 값으로 하여 딕셔너리를 생성한 뒤 딕셔너리를 출력하는 프로그램을 만드세요. input().split()의 결과를 변수 한 개에 저장하면 리스트로 저장됩니다."
   ]
  },
  {
   "cell_type": "code",
   "execution_count": 3,
   "metadata": {},
   "outputs": [
    {
     "name": "stdout",
     "output_type": "stream",
     "text": [
      "{'1': 10.0}\n"
     ]
    }
   ],
   "source": [
    "a = input().split()\n",
    "b = list(map(float, input().split()))\n",
    "print(dict(zip(a,b)))"
   ]
  },
  {
   "cell_type": "code",
   "execution_count": null,
   "metadata": {},
   "outputs": [],
   "source": [
    "# 선생님 풀이\n",
    "keys = input().split()\n",
    "values = list(map(float, input().split()))  \n",
    "d = dict(zip(keys, values))\n",
    "print(d)\n",
    "# zip(key, value) => 리스트끼리 하나의 집합으로 묶어주는 것"
   ]
  },
  {
   "cell_type": "code",
   "execution_count": 21,
   "metadata": {},
   "outputs": [
    {
     "name": "stdout",
     "output_type": "stream",
     "text": [
      "{'health': 575.6, 'health_regen': 1.7, 'mana': 338.8, 'mana_regen': 1.63}\n"
     ]
    }
   ],
   "source": [
    "# 세희언니 풀이\n",
    "a = input().split()\n",
    "b = list(map(float, input().split()))\n",
    "keys = list(a)\n",
    "values = list(b)\n",
    "print(dict(zip(keys,values)))\n"
   ]
  },
  {
   "cell_type": "markdown",
   "metadata": {},
   "source": [
    "### 16.6 심사문제: 구구단 출력하기\n",
    "표준 입력으로 정수가 입력됩니다. 입력된 정수의 구구단을 출력하는 프로그램을 만드세요(input에서 안내 문자열은 출력하지 않아야 합니다). 출력 형식은 숫자 * 숫자 = 숫자처럼 만들고 숫자와 *, = 사이는 공백을 한 칸 띄웁니다."
   ]
  },
  {
   "cell_type": "code",
   "execution_count": 148,
   "metadata": {},
   "outputs": [
    {
     "name": "stdout",
     "output_type": "stream",
     "text": [
      "2 * 1 = 2\n",
      "2 * 2 = 4\n",
      "2 * 3 = 6\n",
      "2 * 4 = 8\n",
      "2 * 5 = 10\n",
      "2 * 6 = 12\n",
      "2 * 7 = 14\n",
      "2 * 8 = 16\n",
      "2 * 9 = 18\n"
     ]
    }
   ],
   "source": [
    "a = int(input())\n",
    "for i in range(1,10):\n",
    "    print(f'{a} * {i} = {a*i}')"
   ]
  },
  {
   "cell_type": "markdown",
   "metadata": {},
   "source": [
    "### 20.8 심사문제: 5와 7의 배수, 공배수 처리하기\n",
    "표준 입력으로 정수 두 개가 입력됩니다(첫 번째 입력 값의 범위는 1~1000, 두 번째 입력 값의 범위는 10~1000이며 첫 번째 입력 값은 두 번째 입력 값보다 항상 작습니다). 첫 번째 정수부터 두 번째 정수까지 숫자를 출력하면서 5의 배수일 때는 'Fizz', 7의 배수일 때는 'Buzz', 5와 7의 공배수일 때는 'FizzBuzz'를 출력하는 프로그램을 만드세요(input에서 안내 문자열은 출력하지 않아야 합니다)."
   ]
  },
  {
   "cell_type": "code",
   "execution_count": 1,
   "metadata": {},
   "outputs": [
    {
     "name": "stdout",
     "output_type": "stream",
     "text": [
      "FizzBuzz\n",
      "36\n",
      "37\n",
      "38\n",
      "39\n",
      "Fizz\n"
     ]
    }
   ],
   "source": [
    "a, b = map(int, input().split())\n",
    "for i in range(a, b + 1):\n",
    "    if i % 5 == 0 and i % 7 ==0 :\n",
    "        print('FizzBuzz')\n",
    "    elif i % 5 == 0:\n",
    "        print('Fizz')\n",
    "    elif i % 7 == 0:\n",
    "        print('Buzz')\n",
    "    else:\n",
    "        print(i)"
   ]
  },
  {
   "cell_type": "code",
   "execution_count": null,
   "metadata": {},
   "outputs": [],
   "source": [
    "#선생님 풀이\n",
    "a, b = map(int, input().split())\n",
    "for i in range(a, b+1):\n",
    "    print('Fizz'*(i%5==0) + 'Buzz'*(i%7==0) or i, end=' ') "
   ]
  },
  {
   "cell_type": "code",
   "execution_count": 5,
   "metadata": {},
   "outputs": [
    {
     "name": "stdout",
     "output_type": "stream",
     "text": [
      "15 Fizz\n"
     ]
    },
    {
     "data": {
      "text/plain": [
       "''"
      ]
     },
     "execution_count": 5,
     "metadata": {},
     "output_type": "execute_result"
    }
   ],
   "source": [
    "num = 15\n",
    "if num % 35 == 0:\n",
    "    print(num, 'Fizzbuzz')\n",
    "elif num % 5 == 0:\n",
    "    print(num, 'Fizz')\n",
    "elif num % 7 == 0:\n",
    "    print(num, 'Buzz')\n",
    "else:\n",
    "    print(num)\n",
    "\n",
    "# 해당 조건문을 신박하게 푸는 법!\n",
    "# 'Fizz' * (num % 5==0)    =>   num%5==0 : True면 1, Fase면 0\n",
    "# + 'Buzz' * (num % 7==0)\n"
   ]
  },
  {
   "cell_type": "code",
   "execution_count": null,
   "metadata": {},
   "outputs": [],
   "source": [
    "'Fizz' * (num % 5 == 0) + 'Buzz' * (num % 7 == 0 ) or num"
   ]
  },
  {
   "cell_type": "markdown",
   "metadata": {},
   "source": [
    "### 22.10 심사문제: 2의 거듭제곱 리스트 생성하기\n",
    "표준 입력으로 정수 두 개가 입력됩니다(첫 번째 입력 값의 범위는 1~20, 두 번째 입력 값의 범위는 10~30이며 첫 번째 입력 값은 두 번째 입력 값보다 항상 작습니다). 첫 번째 정수부터 두 번째 정수까지를 지수로 하는 2의 거듭제곱 리스트를 출력하는 프로그램을 만드세요(input에서 안내 문자열은 출력하지 않아야 합니다). 단, 리스트의 두 번째 요소와 뒤에서 두 번째 요소는 삭제한 뒤 출력하세요. 출력 결과는 리스트 형태라야 합니다."
   ]
  },
  {
   "cell_type": "code",
   "execution_count": 9,
   "metadata": {},
   "outputs": [
    {
     "name": "stdout",
     "output_type": "stream",
     "text": [
      "[2, 8, 16, 32, 64, 128, 256, 512, 1024]\n"
     ]
    }
   ],
   "source": [
    "a, b = map(int, input().split())\n",
    "k = []\n",
    "for i in range(a, b+1):\n",
    "   k.append(2**i)\n",
    "del k[1]\n",
    "del k[-2]\n",
    "# del k[1::-3]\n",
    "print(k)"
   ]
  },
  {
   "cell_type": "code",
   "execution_count": null,
   "metadata": {},
   "outputs": [],
   "source": [
    "######종문형 풀이\n",
    "a, b = map(int, input().split())\n",
    "\n",
    "k = [ 2**i for i in range(a, b+1) ]\n",
    "k.pop(1)\n",
    "k.pop(-2)\n",
    "print(k)"
   ]
  },
  {
   "cell_type": "code",
   "execution_count": 1,
   "metadata": {},
   "outputs": [
    {
     "name": "stdout",
     "output_type": "stream",
     "text": [
      "[4, 16, 32, 64, 128, 256, 1024]\n"
     ]
    }
   ],
   "source": [
    "m, n = map(int, input().split())\n",
    "if 1 <= m <= 20 and 10 <= n <=30 and m < n:\n",
    "   power_list = []\n",
    "   for i in range(m, n+1):\n",
    "      power_list.append(2**i)\n",
    "   del power_list[1], del power_list[-2]\n",
    "   print(power_list)"
   ]
  },
  {
   "cell_type": "code",
   "execution_count": 10,
   "metadata": {},
   "outputs": [
    {
     "data": {
      "text/plain": [
       "[2, 8, 16, 32, 64, 128, 256, 1024]"
      ]
     },
     "execution_count": 10,
     "metadata": {},
     "output_type": "execute_result"
    }
   ],
   "source": [
    "# map과 람다함수를 이용한 풀이!\n",
    "x, y = map(int, input().split())\n",
    "power_list = list(map(lambda i: 2**i, range(x, y+1)))\n",
    "del power_list[1]\n",
    "del power_list[-2]\n",
    "power_list"
   ]
  }
 ],
 "metadata": {
  "kernelspec": {
   "display_name": "base",
   "language": "python",
   "name": "python3"
  },
  "language_info": {
   "codemirror_mode": {
    "name": "ipython",
    "version": 3
   },
   "file_extension": ".py",
   "mimetype": "text/x-python",
   "name": "python",
   "nbconvert_exporter": "python",
   "pygments_lexer": "ipython3",
   "version": "3.11.4"
  },
  "orig_nbformat": 4
 },
 "nbformat": 4,
 "nbformat_minor": 2
}
