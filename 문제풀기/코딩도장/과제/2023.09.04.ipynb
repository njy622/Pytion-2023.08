{
 "cells": [
  {
   "cell_type": "markdown",
   "metadata": {},
   "source": [
    "### 코딩도장\n",
    "- u27\n",
    "- u38"
   ]
  },
  {
   "cell_type": "markdown",
   "metadata": {},
   "source": [
    "### 27.6 심사문제: 특정 문자가 들어있는 단어 찾기\n",
    "문자열이 저장된 words.txt 파일이 주어집니다(문자열은 한 줄로 저장되어 있습니다). words.txt 파일에서 문자 c가 포함된 단어를 각 줄에 출력하는 프로그램을 만드세요. 단어를 출력할 때는 등장한 순서대로 출력해야 하며 ,(콤마)와 .(점)은 출력하지 않아야 합니다."
   ]
  },
  {
   "cell_type": "code",
   "execution_count": 9,
   "metadata": {},
   "outputs": [
    {
     "name": "stdout",
     "output_type": "stream",
     "text": [
      "dictator\n",
      "subjects\n",
      "change\n",
      "costume\n",
      "elegance\n",
      "accepted\n"
     ]
    }
   ],
   "source": [
    "with open('data/words.txt') as file:\n",
    "    a = file.readline().split()  \n",
    "    list = [a[i].strip('.,') for i in range(0, len(a)) if 'c' in a[i]]\n",
    "    for i in list:\n",
    "        print(i)    \n",
    "\n"
   ]
  },
  {
   "cell_type": "code",
   "execution_count": 14,
   "metadata": {},
   "outputs": [
    {
     "name": "stdout",
     "output_type": "stream",
     "text": [
      "dictator\n",
      "subjects\n",
      "change\n",
      "costume\n",
      "elegance\n",
      "accepted\n"
     ]
    }
   ],
   "source": [
    "## 선생님 풀이\n",
    "with open('data/words.txt') as file:\n",
    "    words = file.read()\n",
    "word_list = words.split()\n",
    "for word in word_list:\n",
    "    clean_word = word.strip('.,').lower()\n",
    "    if 'c' in clean_word:\n",
    "        print(clean_word)"
   ]
  },
  {
   "cell_type": "markdown",
   "metadata": {},
   "source": [
    "### 38.7 심사문제: 회문이 아니면 예외 발생시키기\n",
    "표준 입력으로 문자열이 입력됩니다. 다음 소스 코드를 완성하여 입력된 문자열이 회문이면 문자열을 그대로 출력하고, 회문이 아니면 '회문이 아닙니다.'를 출력하도록 만드세요. palindrome 함수와 NotPalindromeError 예외를 작성해야 합니다."
   ]
  },
  {
   "cell_type": "code",
   "execution_count": 12,
   "metadata": {},
   "outputs": [
    {
     "ename": "SyntaxError",
     "evalue": "expected 'except' or 'finally' block (1583332974.py, line 10)",
     "output_type": "error",
     "traceback": [
      "\u001b[1;36m  Cell \u001b[1;32mIn[12], line 10\u001b[1;36m\u001b[0m\n\u001b[1;33m    Except  NotPalindromeError  as  e :\u001b[0m\n\u001b[1;37m    ^\u001b[0m\n\u001b[1;31mSyntaxError\u001b[0m\u001b[1;31m:\u001b[0m expected 'except' or 'finally' block\n"
     ]
    }
   ],
   "source": [
    "try:\n",
    "    word = input()\n",
    "    palindrome(word)\n",
    "except NotPalindromeError as e:\n",
    "    print(e)"
   ]
  },
  {
   "cell_type": "code",
   "execution_count": null,
   "metadata": {},
   "outputs": [],
   "source": [
    "##### 코딩도장 38.4에 예시 나옴\n",
    " class 예외이름(Exception):     # Exception을 상속받아서 새로운 예외를 만듥\n",
    "    def __init__(self):         # 생성자 함수, self는 자바의 this 의미, class method는 무조건 첫번째 인수로 self를 사용해야 함(의미없음)\n",
    "      super().__init__('에러메시지')"
   ]
  },
  {
   "cell_type": "code",
   "execution_count": 18,
   "metadata": {},
   "outputs": [
    {
     "name": "stdout",
     "output_type": "stream",
     "text": [
      "소주 만병만 주소\n"
     ]
    }
   ],
   "source": [
    "## 선생님 풀이\n",
    "class NotPalindromeError(Exception): \n",
    "    def __init__(self):            \n",
    "      super().__init__('회문이 아닙니다')\n",
    "def palindrome(s):\n",
    "    if s == s[::-1]:            # palindrome을 확인하는 코드 [::-1] 뒤집어주는 코드\n",
    "        print(s)\n",
    "        return\n",
    "    #else:  False가 필요없는 상황(return의 값이 없으면 필요없음)\n",
    "    raise NotPalindromeError        #일부러 예외를 발생시켜야할때 사용\n",
    "try:\n",
    "    word = input()\n",
    "    palindrome(word)\n",
    "except NotPalindromeError as e:\n",
    "    print(e)"
   ]
  }
 ],
 "metadata": {
  "kernelspec": {
   "display_name": "base",
   "language": "python",
   "name": "python3"
  },
  "language_info": {
   "codemirror_mode": {
    "name": "ipython",
    "version": 3
   },
   "file_extension": ".py",
   "mimetype": "text/x-python",
   "name": "python",
   "nbconvert_exporter": "python",
   "pygments_lexer": "ipython3",
   "version": "3.11.4"
  },
  "orig_nbformat": 4
 },
 "nbformat": 4,
 "nbformat_minor": 2
}
