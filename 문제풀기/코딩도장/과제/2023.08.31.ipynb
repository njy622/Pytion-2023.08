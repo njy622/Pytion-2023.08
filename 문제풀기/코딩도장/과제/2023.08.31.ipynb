{
 "cells": [
  {
   "cell_type": "markdown",
   "metadata": {},
   "source": [
    "### 코딩도장\n",
    "- u17, 18, 19\n",
    "- u23, 24, 25, 26  (23번은 마지막에 풀기)"
   ]
  },
  {
   "cell_type": "markdown",
   "metadata": {},
   "source": [
    "### 17.6 심사문제: 교통카드 잔액 출력하기\n",
    "표준 입력으로 금액(정수)이 입력됩니다. 1회당 요금은 1,350원이고, 교통카드를 사용했을 때마다의 잔액을 각 줄에 출력하는 프로그램을 만드세요(input에서 안내 문자열은 출력하지 않아야 합니다). 단, 최초 금액은 출력하지 않아야 합니다. 그리고 잔액은 음수가 될 수 없으며 잔액이 부족하면 출력을 끝냅니다."
   ]
  },
  {
   "cell_type": "code",
   "execution_count": 1,
   "metadata": {},
   "outputs": [
    {
     "name": "stdout",
     "output_type": "stream",
     "text": [
      "8650\n",
      "7300\n",
      "5950\n",
      "4600\n",
      "3250\n",
      "1900\n",
      "550\n"
     ]
    }
   ],
   "source": [
    "i = int(input())\n",
    "k = 1\n",
    "while i >= 1350 :\n",
    "    i = i -1350*k\n",
    "    print(i)\n",
    "    k =+ 1\n"
   ]
  },
  {
   "cell_type": "code",
   "execution_count": 4,
   "metadata": {},
   "outputs": [
    {
     "name": "stdout",
     "output_type": "stream",
     "text": [
      "8650\n",
      "7300\n",
      "5950\n",
      "4600\n",
      "3250\n",
      "1900\n",
      "550\n"
     ]
    }
   ],
   "source": [
    "a = int(input())\n",
    "while a >= 1350:\n",
    "    a -= 1350\n",
    "    print(a)"
   ]
  },
  {
   "cell_type": "markdown",
   "metadata": {},
   "source": [
    "### 18.6 심사문제: 두 수 사이의 숫자 중 3으로 끝나지 않는 숫자 출력하기\n",
    "표준 입력으로 정수 두 개가 입력됩니다(첫 번째 입력 값의 범위는 1~200, 두 번째 입력 값의 범위는 10~200이며 첫 번째 입력 값은 두 번째 입력 값보다 항상 작습니다). 다음 소스 코드를 완성하여 첫 번째 정수와 두 번째 정수 사이의 숫자 중 3으로 끝나지 않는 숫자가 출력되게 만드세요. 정답에 코드를 작성할 때는 while True:에 맞춰서 들여쓰기를 해주세요."
   ]
  },
  {
   "cell_type": "code",
   "execution_count": 2,
   "metadata": {},
   "outputs": [
    {
     "name": "stdout",
     "output_type": "stream",
     "text": [
      "1 2 4 5 6 7 8 9 10 11 12 14 15 16 17 18 19 20 "
     ]
    }
   ],
   "source": [
    "start, stop = map(int,input().split())\n",
    "i = start\n",
    "while True:\n",
    "    if i % 10 == 3:\n",
    "        i += 1\n",
    "        continue\n",
    "    if i > stop:\n",
    "        break\n",
    "    print(i, end=' ')\n",
    "    i += 1"
   ]
  },
  {
   "cell_type": "code",
   "execution_count": 87,
   "metadata": {},
   "outputs": [
    {
     "name": "stdout",
     "output_type": "stream",
     "text": [
      "10 11 12 14 15 16 17 18 19 20 21 22 24 25 26 27 28 29 30 "
     ]
    }
   ],
   "source": [
    "start, stop = map(int,input().split())\n",
    "i = start\n",
    "while True:\n",
    "    if i > stop:\n",
    "        break\n",
    "    if i % 10 == 3:\n",
    "        i += 1\n",
    "        continue\n",
    "    print(i, end=' ')\n",
    "    i += 1"
   ]
  },
  {
   "cell_type": "code",
   "execution_count": 88,
   "metadata": {},
   "outputs": [
    {
     "name": "stdout",
     "output_type": "stream",
     "text": [
      "10 11 12 14 15 16 17 18 19 20 21 22 24 25 26 27 28 29 30 "
     ]
    }
   ],
   "source": [
    "start, stop = map(int,input().split())\n",
    "for i in range(start, stop+1):\n",
    "    if i % 10 == 3:\n",
    "        continue\n",
    "    print(i, end=' ')"
   ]
  },
  {
   "cell_type": "markdown",
   "metadata": {},
   "source": [
    "### 19.6 심사문제: 산 모양으로 별 출력하기\n",
    "표준 입력으로 삼각형의 높이가 입력됩니다. 입력된 높이만큼 산 모양으로 별을 출력하는 프로그램을 만드세요(input에서 안내 문자열은 출력하지 않아야 합니다). 이때 출력 결과는 예제와 정확히 일치해야 합니다. 모양이 같더라도 공백이나 빈 줄이 더 들어가면 틀린 것으로 처리됩니다."
   ]
  },
  {
   "cell_type": "code",
   "execution_count": 2,
   "metadata": {},
   "outputs": [
    {
     "name": "stdout",
     "output_type": "stream",
     "text": [
      "    *\n",
      "   ***\n",
      "  *****\n",
      " *******\n",
      "*********\n"
     ]
    }
   ],
   "source": [
    "a = int(input())\n",
    "for i in range(a):\n",
    "  for j in range(a-i-1):\n",
    "    print(' ',end='')\n",
    "  for j in range(2*i+1):\n",
    "    print('*',end='')\n",
    "  print()"
   ]
  },
  {
   "cell_type": "code",
   "execution_count": 92,
   "metadata": {},
   "outputs": [
    {
     "name": "stdout",
     "output_type": "stream",
     "text": [
      "      *\n",
      "     ***\n",
      "    *****\n",
      "   *******\n",
      "  *********\n",
      " ***********\n",
      "*************\n"
     ]
    }
   ],
   "source": [
    "# 선생님 풀이\n",
    "height = int(input())\n",
    "for i in range(1, height + 1):\n",
    "    print(' ' * (height - i), end='')\n",
    "    print('*' * ( 2 * i - 1))"
   ]
  },
  {
   "cell_type": "markdown",
   "metadata": {},
   "source": [
    " ### 23.7 심사문제: 지뢰찾기\n",
    "표준 입력으로 2차원 리스트의 가로(col)와 세로(row)가 입력되고 그 다음 줄부터 리스트의 요소로 들어갈 문자가 입력됩니다. 이때 2차원 리스트 안에서 *는 지뢰이고 .은 지뢰가 아닙니다. 지뢰가 아닌 요소에는 인접한 지뢰의 개수를 출력하는 프로그램을 만드세요(input에서 안내 문자열은 출력하지 않아야 합니다).\n",
    "\n",
    "여러 줄을 입력 받으려면 다음과 같이 for 반복문에서 input을 호출한 뒤 append로 각 줄을 추가하면 됩니다(list 안에 문자열을 넣으면 문자열이 문자 리스트로 변환됩니다)."
   ]
  },
  {
   "cell_type": "code",
   "execution_count": 105,
   "metadata": {},
   "outputs": [],
   "source": [
    "def print_mines(m):\n",
    "    for row in m:\n",
    "        for element in row:\n",
    "            print(element, end= ' ')\n",
    "        print()"
   ]
  },
  {
   "cell_type": "code",
   "execution_count": 106,
   "metadata": {},
   "outputs": [
    {
     "name": "stdout",
     "output_type": "stream",
     "text": [
      ". * . . . * * * \n",
      ". . . . . . . * \n",
      "* . . . . * * . \n",
      "* . . * * . * . \n",
      "* * * . . * . . \n",
      ". * * . . * . * \n"
     ]
    }
   ],
   "source": [
    "import random\n",
    "row, col = map(int, input().split())\n",
    "mines = [['*' if random.random() > 0.7 else '.' for _ in range(col)] for _ in range(row)]\n",
    "print_mines(mines)"
   ]
  },
  {
   "cell_type": "code",
   "execution_count": 107,
   "metadata": {},
   "outputs": [
    {
     "name": "stdout",
     "output_type": "stream",
     "text": [
      ". . . . . . . . . . \n",
      ". . * . . . * * * . \n",
      ". . . . . . . . * . \n",
      ". * . . . . * * . . \n",
      ". * . . * * . * . . \n",
      ". * * * . . * . . . \n",
      ". . * * . . * . * . \n",
      ". . . . . . . . . . \n"
     ]
    }
   ],
   "source": [
    "pad_mines = [['.'] * (col + 2)]  # 맨윗줄\n",
    "for mine_row in mines:\n",
    "    pad_row = ['.']\n",
    "    pad_row.extend(mine_row)\n",
    "    pad_row.append('.')\n",
    "    pad_mines.append(pad_row)\n",
    "pad_mines.append(['.'] * (col + 2))\n",
    "print_mines(pad_mines)    \n"
   ]
  },
  {
   "cell_type": "code",
   "execution_count": 113,
   "metadata": {},
   "outputs": [
    {
     "name": "stdout",
     "output_type": "stream",
     "text": [
      "1 * 1 0 1 * * * \n",
      "2 2 1 0 2 4 6 * \n",
      "* 2 1 2 3 * * 3 \n",
      "* 5 3 * * 5 * 2 \n",
      "* * * 4 4 * 4 2 \n",
      "3 * * 2 2 * 3 * \n"
     ]
    }
   ],
   "source": [
    "final_mines = []\n",
    "for i in range(1, row+1):\n",
    "    line = []\n",
    "    for k in range(1, col+1):\n",
    "        if pad_mines[i][k] == '*':\n",
    "            line.append('*')\n",
    "        else:\n",
    "            count = (pad_mines[i-1][k-1]=='*') + (pad_mines[i-1][k]=='*') + (pad_mines[i-1][k+1]=='*') + \\\n",
    "                    (pad_mines[i][k-1]=='*')                              + (pad_mines[i][k+1]=='*') + \\\n",
    "                    (pad_mines[i+1][k-1]=='*') + (pad_mines[i+1][k]=='*') + (pad_mines[i+1][k+1]=='*')\n",
    "            line.append(str(count))\n",
    "    final_mines.append(line)\n",
    "\n",
    "print_mines(final_mines)"
   ]
  },
  {
   "cell_type": "markdown",
   "metadata": {},
   "source": [
    "### 24.5 심사문제: 특정 단어 개수 세기\n",
    "표준 입력으로 문자열이 입력됩니다. 입력된 문자열에서 'the'의 개수를 출력하는 프로그램을 만드세요(input에서 안내 문자열은 출력하지 않아야 합니다). 단, 모든 문자가 소문자인 'the'만 찾으면 되며 'them', 'there', 'their' 등은 포함하지 않아야 합니다."
   ]
  },
  {
   "cell_type": "code",
   "execution_count": 117,
   "metadata": {},
   "outputs": [
    {
     "data": {
      "text/plain": [
       "8"
      ]
     },
     "execution_count": 117,
     "metadata": {},
     "output_type": "execute_result"
    }
   ],
   "source": [
    "text = \"\"\"\n",
    "    the grown-ups' response, this time, was to advise me to lay aside my drawings of boa constrictors, whether from the inside or the outside, and devote myself instead to geography, history, arithmetic, and grammar. That is why, at the, age of six, I gave up what might have been a magnificent career as a painter. I had been disheartened by the failure of my Drawing Number One and my Drawing Number Two. Grown-ups never understand anything by themselves, and it is tiresome for children to be always and forever explaining things to the.\n",
    "\"\"\"\"Q5~Q6. 퀴즈.ipynb\"\n",
    "text.count('the')\n",
    "\n",
    "# 순서 : 문장을 리스트로 만듦 > 구둣점 제거 > 소문자 >  'the' == 나온단어"
   ]
  },
  {
   "cell_type": "code",
   "execution_count": 120,
   "metadata": {},
   "outputs": [
    {
     "name": "stdout",
     "output_type": "stream",
     "text": [
      "6\n"
     ]
    }
   ],
   "source": [
    "text_list = text.split()\n",
    "count_the = 0\n",
    "for word in text_list:\n",
    "    word = word.strip(\"',.\").lower()\n",
    "    if word == 'the':\n",
    "        count_the += 1\n",
    "print(count_the)"
   ]
  },
  {
   "cell_type": "markdown",
   "metadata": {},
   "source": [
    "### 24.6 심사문제: 높은 가격순으로 출력하기\n",
    "표준 입력으로 물품 가격 여러 개가 문자열 한 줄로 입력되고, 각 가격은 ;(세미콜론)으로 구분되어 있습니다. 입력된 가격을 높은 가격순으로 출력하는 프로그램을 만드세요(input에서 안내 문자열은 출력하지 않아야 합니다). 이때 가격은 길이를 9로 만든 뒤 오른쪽으로 정렬하고 천단위로 ,(콤마)를 넣으세요."
   ]
  },
  {
   "cell_type": "code",
   "execution_count": 122,
   "metadata": {},
   "outputs": [
    {
     "ename": "TypeError",
     "evalue": "'NoneType' object is not subscriptable",
     "output_type": "error",
     "traceback": [
      "\u001b[1;31m---------------------------------------------------------------------------\u001b[0m",
      "\u001b[1;31mTypeError\u001b[0m                                 Traceback (most recent call last)",
      "Cell \u001b[1;32mIn[122], line 8\u001b[0m\n\u001b[0;32m      6\u001b[0m d\u001b[39m.\u001b[39msort()\n\u001b[0;32m      7\u001b[0m \u001b[39mfor\u001b[39;00m i \u001b[39min\u001b[39;00m \u001b[39mrange\u001b[39m(\u001b[39mlen\u001b[39m(d)):\n\u001b[1;32m----> 8\u001b[0m     \u001b[39mprint\u001b[39m(x[i])\n",
      "\u001b[1;31mTypeError\u001b[0m: 'NoneType' object is not subscriptable"
     ]
    }
   ],
   "source": [
    "a = input()\n",
    "b = a.replace(';',' ').split()\n",
    "d = []\n",
    "for i in range(len(b)):\n",
    "    d.append(f'{int(b[i]):,}')\n",
    "d.sort()\n",
    "for i in range(len(d)):\n",
    "    print(x[i])"
   ]
  },
  {
   "cell_type": "code",
   "execution_count": 124,
   "metadata": {},
   "outputs": [
    {
     "data": {
      "text/plain": [
       "[51900, 83000, 158000, 367500, 250000, 59200, 128500, 1304000]"
      ]
     },
     "execution_count": 124,
     "metadata": {},
     "output_type": "execute_result"
    }
   ],
   "source": [
    "input_str = '51900;83000;158000;367500;250000;59200;128500;1304000'\n",
    "price_list = list(map(int, input_str.split(';')))\n",
    "price_list"
   ]
  },
  {
   "cell_type": "code",
   "execution_count": 125,
   "metadata": {},
   "outputs": [
    {
     "data": {
      "text/plain": [
       "[1304000, 367500, 250000, 158000, 128500, 83000, 59200, 51900]"
      ]
     },
     "execution_count": 125,
     "metadata": {},
     "output_type": "execute_result"
    }
   ],
   "source": [
    "price_list.sort(reverse=True)   # 내림차순(descending order) 정렬\n",
    "price_list"
   ]
  },
  {
   "cell_type": "code",
   "execution_count": 126,
   "metadata": {},
   "outputs": [
    {
     "name": "stdout",
     "output_type": "stream",
     "text": [
      "1,304,000\n",
      "  367,500\n",
      "  250,000\n",
      "  158,000\n",
      "  128,500\n",
      "   83,000\n",
      "   59,200\n",
      "   51,900\n"
     ]
    }
   ],
   "source": [
    "for price in price_list:\n",
    "    print(f'{price:9,d}')"
   ]
  },
  {
   "cell_type": "markdown",
   "metadata": {},
   "source": [
    "### 25.8 심사문제: 딕셔너리에서 특정 값 삭제하기\n",
    "표준 입력으로 문자열 여러 개와 숫자 여러 개가 두 줄로 입력되고, 첫 번째 줄은 키, 두 번째 줄은 값으로 하여 딕셔너리를 생성합니다. 다음 코드를 완성하여 딕셔너리에서 키가 'delta'인 키-값 쌍과 값이 30인 키-값 쌍을 삭제하도록 만드세요."
   ]
  },
  {
   "cell_type": "code",
   "execution_count": 136,
   "metadata": {},
   "outputs": [
    {
     "data": {
      "text/plain": [
       "{}"
      ]
     },
     "execution_count": 136,
     "metadata": {},
     "output_type": "execute_result"
    }
   ],
   "source": [
    "# alpha bravo charlie delta\n",
    "# 10 20 30 40\n",
    "keys = input().split()\n",
    "values = map(int, input().split())\n",
    "d = dict(zip(keys, values))\n",
    "d"
   ]
  },
  {
   "cell_type": "code",
   "execution_count": 129,
   "metadata": {},
   "outputs": [
    {
     "data": {
      "text/plain": [
       "{'alpha': 10, 'bravo': 20, 'charlie': 30}"
      ]
     },
     "execution_count": 129,
     "metadata": {},
     "output_type": "execute_result"
    }
   ],
   "source": [
    "del d['delta']\n",
    "d"
   ]
  },
  {
   "cell_type": "code",
   "execution_count": 130,
   "metadata": {},
   "outputs": [
    {
     "ename": "RuntimeError",
     "evalue": "dictionary changed size during iteration",
     "output_type": "error",
     "traceback": [
      "\u001b[1;31m---------------------------------------------------------------------------\u001b[0m",
      "\u001b[1;31mRuntimeError\u001b[0m                              Traceback (most recent call last)",
      "Cell \u001b[1;32mIn[130], line 2\u001b[0m\n\u001b[0;32m      1\u001b[0m \u001b[39m# 반복문에서 반복 대상이 되는 딕셔너리의 크기를 변경시키는 작업을 하면 에러 발생\u001b[39;00m\n\u001b[1;32m----> 2\u001b[0m \u001b[39mfor\u001b[39;00m key, value \u001b[39min\u001b[39;00m d\u001b[39m.\u001b[39mitems():\n\u001b[0;32m      3\u001b[0m     \u001b[39mif\u001b[39;00m value \u001b[39m==\u001b[39m \u001b[39m30\u001b[39m:\n\u001b[0;32m      4\u001b[0m         \u001b[39mdel\u001b[39;00m d[key]\n",
      "\u001b[1;31mRuntimeError\u001b[0m: dictionary changed size during iteration"
     ]
    }
   ],
   "source": [
    "# 반복문에서 반복 대상이 되는 딕셔너리의 크기를 변경시키는 작업을 하면 에러 발생\n",
    "# 하지만 데이터는 삭제됨\n",
    "for key, value in d.items():    \n",
    "    if value == 30:\n",
    "        del d[key]"
   ]
  },
  {
   "cell_type": "code",
   "execution_count": 135,
   "metadata": {},
   "outputs": [
    {
     "data": {
      "text/plain": [
       "{'alpha': 10, 'bravo': 20, 'charlie': 30}"
      ]
     },
     "execution_count": 135,
     "metadata": {},
     "output_type": "execute_result"
    }
   ],
   "source": [
    "d = {'alpha': 10, 'bravo': 20, 'charlie': 30}\n",
    "# del_key = ''        # 지울 key값이 뭔지 모르기때문에 blank로 두었으나 안써도 무방(자바에서는 선언해야함)\n",
    "for key, value in d.items():\n",
    "    if value == 31:\n",
    "        del_key = key\n",
    "if del_key:\n",
    "    del d[del_key]\n",
    "d"
   ]
  },
  {
   "cell_type": "markdown",
   "metadata": {},
   "source": [
    "### 심사문제 26.9\n",
    "표준 입력으로 양의 정수 두 개가 입력됩니다. 다음 소스 코드를 완성하여 두 숫자의 공약수를 세트 형태로 구하도록 만드세요.\n",
    "단, 최종 결과는 공약수의 합으로 판단합니다."
   ]
  },
  {
   "cell_type": "code",
   "execution_count": 132,
   "metadata": {},
   "outputs": [
    {
     "data": {
      "text/plain": [
       "{1, 2, 5, 10}"
      ]
     },
     "execution_count": 132,
     "metadata": {},
     "output_type": "execute_result"
    }
   ],
   "source": [
    "# 약수의 집합\n",
    "div_set = set()\n",
    "x = 10\n",
    "for i in range(1, x+1):\n",
    "    if x % i == 0:\n",
    "        div_set.add(i)\n",
    "div_set"
   ]
  },
  {
   "cell_type": "code",
   "execution_count": 133,
   "metadata": {},
   "outputs": [
    {
     "data": {
      "text/plain": [
       "{1, 2, 5, 10}"
      ]
     },
     "execution_count": 133,
     "metadata": {},
     "output_type": "execute_result"
    }
   ],
   "source": [
    "div_set = {i for i in range(1, x+1) if x % i == 0}\n",
    "div_set"
   ]
  },
  {
   "cell_type": "code",
   "execution_count": 137,
   "metadata": {},
   "outputs": [
    {
     "name": "stdout",
     "output_type": "stream",
     "text": [
      "{1, 2, 3, 4, 6, 12} {1, 2, 4, 5, 10, 20}\n"
     ]
    }
   ],
   "source": [
    "m, n = map(int, input().split())        # ex) 12 20\n",
    "m_set = {i for i in range(1, m+1) if m % i == 0}\n",
    "n_set = {i for i in range(1, n+1) if n % i == 0}\n",
    "print(m_set, n_set)"
   ]
  },
  {
   "cell_type": "code",
   "execution_count": 138,
   "metadata": {},
   "outputs": [
    {
     "data": {
      "text/plain": [
       "{1, 2, 4}"
      ]
     },
     "execution_count": 138,
     "metadata": {},
     "output_type": "execute_result"
    }
   ],
   "source": [
    "common_divisors = m_set & n_set     # 교집합\n",
    "common_divisors"
   ]
  },
  {
   "cell_type": "code",
   "execution_count": 139,
   "metadata": {},
   "outputs": [
    {
     "data": {
      "text/plain": [
       "7"
      ]
     },
     "execution_count": 139,
     "metadata": {},
     "output_type": "execute_result"
    }
   ],
   "source": [
    "sum(common_divisors)"
   ]
  }
 ],
 "metadata": {
  "kernelspec": {
   "display_name": "base",
   "language": "python",
   "name": "python3"
  },
  "language_info": {
   "codemirror_mode": {
    "name": "ipython",
    "version": 3
   },
   "file_extension": ".py",
   "mimetype": "text/x-python",
   "name": "python",
   "nbconvert_exporter": "python",
   "pygments_lexer": "ipython3",
   "version": "3.11.4"
  },
  "orig_nbformat": 4
 },
 "nbformat": 4,
 "nbformat_minor": 2
}
