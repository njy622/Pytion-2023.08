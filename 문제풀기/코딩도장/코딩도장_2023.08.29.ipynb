{
 "cells": [
  {
   "cell_type": "markdown",
   "metadata": {},
   "source": [
    "### 코딩도장 문제 풀기 Q8~Q9, Q13~Q15 심사문제 풀기"
   ]
  },
  {
   "cell_type": "markdown",
   "metadata": {},
   "source": [
    "Q8. 불과 비교, 논리 연산자 알아보기\n",
    "표준 입력으로 국어, 영어, 수학, 과학 점수가 입력됩니다. 국어는 90점 이상, 영어는 80점 초과, 수학은 85점 초과, 과학은 80점 이상일 때 합격이라고 정했습니다(한 과목이라도 조건에 만족하지 않으면 불합격). 다음 소스 코드를 완성하여 합격이면 True, 불합격이면 False가 출력되게 만드세요(input에서 안내 문자열은 출력하지 않아야 합니다)."
   ]
  },
  {
   "cell_type": "code",
   "execution_count": 17,
   "metadata": {},
   "outputs": [
    {
     "name": "stdout",
     "output_type": "stream",
     "text": [
      "True\n"
     ]
    }
   ],
   "source": [
    "Kor, Eng, Mat, Sci = map(int, input().split())\n",
    "print(Kor >= 90 and Eng > 80 and Mat > 85 and Sci >=80)"
   ]
  },
  {
   "cell_type": "markdown",
   "metadata": {},
   "source": [
    "Q9. 문자열 사용하기\n",
    "다음 소스 코드를 완성하여 실행 결과대로 문자열이 출력되게 만드세요.\n",
    "\n",
    "________________\n",
    "________________\n",
    "________________\n",
    "________________\n",
    "\n",
    "print(s)\n",
    "예\n",
    "결과\n",
    "'Python' is a \"programming language\"\n",
    "that lets you work quickly\n",
    "and\n",
    "integrate systems more effectively."
   ]
  },
  {
   "cell_type": "code",
   "execution_count": 20,
   "metadata": {},
   "outputs": [
    {
     "name": "stdout",
     "output_type": "stream",
     "text": [
      "'Python' is a \"programming language\"\n",
      "that lets you work quickly\n",
      "and\n",
      "integrate systems more effectively.\n"
     ]
    }
   ],
   "source": [
    "s = \"'Python' is a \\\"programming language\\\"\\nthat lets you work quickly\\nand\\nintegrate systems more effectively.\"\n",
    "print(s)"
   ]
  },
  {
   "cell_type": "markdown",
   "metadata": {},
   "source": [
    "Q13. if 조건문으로 특정 조건일 때 코드 실행하기\n",
    "표준 입력으로 가격(정수)과 쿠폰 이름이 각 줄에 입력됩니다. Cash3000 쿠폰은 3,000원, Cash5000 쿠폰은 5,000원을 할인합니다. 쿠폰에 따라 할인된 가격을 출력하는 프로그램을 만드세요(input에서 안내 문자열은 출력하지 않아야 합니다)."
   ]
  },
  {
   "cell_type": "code",
   "execution_count": 26,
   "metadata": {},
   "outputs": [
    {
     "name": "stdout",
     "output_type": "stream",
     "text": [
      "67000\n"
     ]
    }
   ],
   "source": [
    "price, cash = int(input()), str(input())\n",
    "if cash == 'Cash3000':\n",
    "    print(price - 3000)\n",
    "if cash == 'Cash5000':\n",
    "    print(price - 5000)"
   ]
  },
  {
   "cell_type": "markdown",
   "metadata": {},
   "source": [
    "Q14.else를 사용하여 두 방향으로 분기하기\n",
    "표준 입력으로 국어, 영어, 수학, 과학 점수가 입력됩니다. 여기서 네 과목의 평균 점수가 80점 이상일 때 합격이라고 정했습니다. 평균 점수에 따라 '합격', '불합격'을 출력하는 프로그램을 만드세요(input에서 안내 문자열은 출력하지 않아야 합니다). 단, 점수는 0점부터 100점까지만 입력받을 수 있으며 범위를 벗어났다면 '잘못된 점수'를 출력하고 합격, 불합격 여부는 출력하지 않아야 합니다."
   ]
  },
  {
   "cell_type": "code",
   "execution_count": 54,
   "metadata": {},
   "outputs": [
    {
     "name": "stdout",
     "output_type": "stream",
     "text": [
      "합격\n"
     ]
    }
   ],
   "source": [
    "Kor, Eng, Mat, Sci = map(int,input().split())\n",
    "if 0 < Kor<= 100 and 0 < Eng<= 100 and 0 < Mat<= 100 and 0 < Sci<= 100:\n",
    "    if (Kor + Eng + Mat + Sci)/4 >=80:\n",
    "        print('합격')\n",
    "    else:\n",
    "        print('불합격')\n",
    "else:\n",
    "    print('잘못된 점수')"
   ]
  },
  {
   "cell_type": "code",
   "execution_count": 2,
   "metadata": {},
   "outputs": [
    {
     "name": "stdout",
     "output_type": "stream",
     "text": [
      "잘못된 점수\n"
     ]
    }
   ],
   "source": [
    "# list를 사용해서 개선된 코드\n",
    "scores = list(map(int,input().split()))\n",
    "if min(scores) < 0 or max(scores) > 100:\n",
    "    print('잘못된 점수')\n",
    "else:\n",
    "    avg = sum(scores) / len(scores)\n",
    "    if avg >= 80:\n",
    "        print('합격')\n",
    "    else:\n",
    "        print('불합격')"
   ]
  },
  {
   "cell_type": "markdown",
   "metadata": {},
   "source": [
    "Q15.  elif를 사용하여 여러 방향으로 분기하기 \n",
    "표준 입력으로 나이(만 나이)가 입력됩니다(입력 값은 7 이상 입력됨). 교통카드 시스템에서 시내버스 요금은 다음과 같으며 각 나이에 맞게 요금을 차감한 뒤 잔액이 출력되게 만드세요(if, elif 사용). 현재 교통카드에는 9,000원이 들어있습니다.\n",
    "\n",
    "어린이(초등학생, 만 7세 이상 12세 이하): 650원\n",
    "청소년(중∙고등학생, 만 13세 이상 18세 이하): 1,050원\n",
    "어른(일반, 만 19세 이상): 1,250원"
   ]
  },
  {
   "cell_type": "code",
   "execution_count": 55,
   "metadata": {},
   "outputs": [
    {
     "name": "stdout",
     "output_type": "stream",
     "text": [
      "8350\n"
     ]
    }
   ],
   "source": [
    "age = int(input())\n",
    "balance = 9000    # 교통카드 잔액\n",
    "if 7 <= age <= 12:\n",
    "    balance = balance-650\n",
    "if 13 <= age <= 18:\n",
    "    balance = balance-1050\n",
    "if 19 <= age:\n",
    "    balance = balance-1250\n",
    "print(balance)\n"
   ]
  },
  {
   "cell_type": "code",
   "execution_count": 3,
   "metadata": {},
   "outputs": [
    {
     "name": "stdout",
     "output_type": "stream",
     "text": [
      "7950\n"
     ]
    }
   ],
   "source": [
    "# 선생님 풀이\n",
    "age = int(input())\n",
    "balance = 9000    # 교통카드 잔액\n",
    "if 7 <= age <= 12:\n",
    "    fare = 650\n",
    "if 13 <= age <= 18:\n",
    "    fare = 1050\n",
    "if 19 <= age:\n",
    "    fare = 1250\n",
    "print(balance-fare)"
   ]
  }
 ],
 "metadata": {
  "kernelspec": {
   "display_name": "base",
   "language": "python",
   "name": "python3"
  },
  "language_info": {
   "codemirror_mode": {
    "name": "ipython",
    "version": 3
   },
   "file_extension": ".py",
   "mimetype": "text/x-python",
   "name": "python",
   "nbconvert_exporter": "python",
   "pygments_lexer": "ipython3",
   "version": "3.11.4"
  },
  "orig_nbformat": 4
 },
 "nbformat": 4,
 "nbformat_minor": 2
}
